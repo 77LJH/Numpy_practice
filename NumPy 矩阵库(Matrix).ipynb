{
 "cells": [
  {
   "cell_type": "markdown",
   "id": "72a48118",
   "metadata": {},
   "source": [
    "# NumPy 矩阵库(Matrix)"
   ]
  },
  {
   "cell_type": "markdown",
   "id": "8548c1e8",
   "metadata": {},
   "source": [
    "NumPy 中包含了一个矩阵库 numpy.matlib，该模块中的函数返回的是一个矩阵，而不是 ndarray 对象。\n",
    "\n",
    "一个 的矩阵是一个由行（row）列（column）元素排列成的矩形阵列。\n",
    "\n",
    "矩阵里的元素可以是数字、符号或数学式。以下是一个由 6 个数字元素构成的 2 行 3 列的矩阵：\n",
    "\n",
    "\n",
    "\n",
    "转置矩阵\n",
    "NumPy 中除了可以使用 numpy.transpose 函数来对换数组的维度，还可以使用 T 属性。。\n",
    "\n",
    "例如有个 m 行 n 列的矩阵，使用 t() 函数就能转换为 n 行 m 列的矩阵。"
   ]
  },
  {
   "cell_type": "code",
   "execution_count": 1,
   "id": "de46d2e5",
   "metadata": {},
   "outputs": [
    {
     "name": "stdout",
     "output_type": "stream",
     "text": [
      "原数组：\n",
      "[[ 0  1  2  3]\n",
      " [ 4  5  6  7]\n",
      " [ 8  9 10 11]]\n",
      "\n",
      "\n",
      "转置数组：\n",
      "[[ 0  4  8]\n",
      " [ 1  5  9]\n",
      " [ 2  6 10]\n",
      " [ 3  7 11]]\n"
     ]
    }
   ],
   "source": [
    "import numpy as np\n",
    " \n",
    "a = np.arange(12).reshape(3,4)\n",
    " \n",
    "print ('原数组：')\n",
    "print (a)\n",
    "print ('\\n')\n",
    " \n",
    "print ('转置数组：')\n",
    "print (a.T)"
   ]
  },
  {
   "cell_type": "markdown",
   "id": "cd24dbe2",
   "metadata": {},
   "source": [
    "matlib.empty()\n",
    "matlib.empty() 函数返回一个新的矩阵，语法格式为：\n",
    "\n",
    "numpy.matlib.empty(shape, dtype, order)\n",
    "参数说明：\n",
    "\n",
    "shape: 定义新矩阵形状的整数或整数元组\n",
    "Dtype: 可选，数据类型\n",
    "order: C（行序优先） 或者 F（列序优先）"
   ]
  },
  {
   "cell_type": "code",
   "execution_count": 2,
   "id": "630875e8",
   "metadata": {},
   "outputs": [
    {
     "name": "stdout",
     "output_type": "stream",
     "text": [
      "[[2.12199579e-314 0.00000000e+000]\n",
      " [4.82208070e-321 1.34746733e-311]]\n"
     ]
    }
   ],
   "source": [
    "import numpy.matlib \n",
    "import numpy as np\n",
    " \n",
    "print (np.matlib.empty((2,2)))\n",
    "# 填充为随机数据"
   ]
  },
  {
   "cell_type": "markdown",
   "id": "41c5b50f",
   "metadata": {},
   "source": [
    "numpy.matlib.zeros()\n",
    "numpy.matlib.zeros() 函数创建一个以 0 填充的矩阵。"
   ]
  },
  {
   "cell_type": "code",
   "execution_count": 3,
   "id": "e3286120",
   "metadata": {},
   "outputs": [
    {
     "name": "stdout",
     "output_type": "stream",
     "text": [
      "[[0. 0.]\n",
      " [0. 0.]]\n"
     ]
    }
   ],
   "source": [
    "print (np.matlib.zeros((2,2)))"
   ]
  },
  {
   "cell_type": "markdown",
   "id": "37b0a050",
   "metadata": {},
   "source": [
    "numpy.matlib.ones()\n",
    "numpy.matlib.ones()函数创建一个以 1 填充的矩阵。"
   ]
  },
  {
   "cell_type": "code",
   "execution_count": 4,
   "id": "6a931461",
   "metadata": {},
   "outputs": [
    {
     "name": "stdout",
     "output_type": "stream",
     "text": [
      "[[1. 1.]\n",
      " [1. 1.]]\n"
     ]
    }
   ],
   "source": [
    "print (np.matlib.ones((2,2)))"
   ]
  },
  {
   "cell_type": "markdown",
   "id": "7c50f79f",
   "metadata": {},
   "source": [
    "numpy.matlib.eye()\n",
    "numpy.matlib.eye() 函数返回一个矩阵，对角线元素为 1，其他位置为零。\n",
    "\n",
    "numpy.matlib.eye(n, M,k, dtype)\n",
    "参数说明：\n",
    "\n",
    "n: 返回矩阵的行数\n",
    "M: 返回矩阵的列数，默认为 n\n",
    "k: 对角线的索引\n",
    "dtype: 数据类型"
   ]
  },
  {
   "cell_type": "code",
   "execution_count": 8,
   "id": "2a464025",
   "metadata": {},
   "outputs": [
    {
     "name": "stdout",
     "output_type": "stream",
     "text": [
      "[[1. 0. 0. 0.]\n",
      " [0. 1. 0. 0.]\n",
      " [0. 0. 1. 0.]]\n",
      "[[0. 1. 0. 0.]\n",
      " [0. 0. 1. 0.]\n",
      " [0. 0. 0. 1.]]\n",
      "[[0. 0. 1. 0.]\n",
      " [0. 0. 0. 1.]\n",
      " [0. 0. 0. 0.]]\n"
     ]
    }
   ],
   "source": [
    "print (np.matlib.eye(n =  3, M =  4, k =  0, dtype =  float))\n",
    "print (np.matlib.eye(n =  3, M =  4, k =  1, dtype =  float))\n",
    "print (np.matlib.eye(n =  3, M =  4, k =  2, dtype =  float))"
   ]
  },
  {
   "attachments": {
    "image.png": {
     "image/png": "[encoded data removed]"
    }
   },
   "cell_type": "markdown",
   "id": "d45898fb",
   "metadata": {},
   "source": [
    "numpy.matlib.identity()\n",
    "numpy.matlib.identity() 函数返回给定大小的单位矩阵。\n",
    "\n",
    "单位矩阵是个方阵，从左上角到右下角的对角线（称为主对角线）上的元素均为 1，除此以外全都为 0。\n",
    "\n",
    "![image.png](attachment:image.png)"
   ]
  },
  {
   "cell_type": "code",
   "execution_count": 9,
   "id": "44b831e9",
   "metadata": {},
   "outputs": [
    {
     "name": "stdout",
     "output_type": "stream",
     "text": [
      "[[1. 0. 0. 0. 0.]\n",
      " [0. 1. 0. 0. 0.]\n",
      " [0. 0. 1. 0. 0.]\n",
      " [0. 0. 0. 1. 0.]\n",
      " [0. 0. 0. 0. 1.]]\n"
     ]
    }
   ],
   "source": [
    "# 大小为 5，类型位浮点型\n",
    "print (np.matlib.identity(5, dtype =  float))"
   ]
  },
  {
   "cell_type": "markdown",
   "id": "a66486f1",
   "metadata": {},
   "source": [
    "numpy.matlib.rand()\n",
    "numpy.matlib.rand() 函数创建一个给定大小的矩阵，数据是随机填充的。"
   ]
  },
  {
   "cell_type": "code",
   "execution_count": 10,
   "id": "b51998cb",
   "metadata": {},
   "outputs": [
    {
     "name": "stdout",
     "output_type": "stream",
     "text": [
      "[[0.83076755 0.08324171 0.98822467]\n",
      " [0.99587881 0.82525552 0.23769937]\n",
      " [0.24040182 0.68725039 0.56172131]]\n"
     ]
    }
   ],
   "source": [
    "print (np.matlib.rand(3,3))"
   ]
  },
  {
   "cell_type": "markdown",
   "id": "980ed1f2",
   "metadata": {},
   "source": [
    "矩阵总是二维的，而 ndarray 是一个 n 维数组。 两个对象都是可互换的。"
   ]
  },
  {
   "cell_type": "code",
   "execution_count": 13,
   "id": "676a90d8",
   "metadata": {},
   "outputs": [
    {
     "name": "stdout",
     "output_type": "stream",
     "text": [
      "[[1 2]\n",
      " [3 4]] <class 'numpy.matrix'>\n"
     ]
    }
   ],
   "source": [
    "i = np.matrix('1,2;3,4')  \n",
    "print (i,type(i))"
   ]
  },
  {
   "cell_type": "code",
   "execution_count": 14,
   "id": "d1a120cf",
   "metadata": {},
   "outputs": [
    {
     "name": "stdout",
     "output_type": "stream",
     "text": [
      "[[1 2]\n",
      " [3 4]] <class 'numpy.ndarray'>\n"
     ]
    }
   ],
   "source": [
    "j = np.asarray(i)  \n",
    "print (j,type(j))"
   ]
  },
  {
   "cell_type": "code",
   "execution_count": 16,
   "id": "5df98df2",
   "metadata": {},
   "outputs": [
    {
     "name": "stdout",
     "output_type": "stream",
     "text": [
      "[[1 2]\n",
      " [3 4]] <class 'numpy.matrix'>\n"
     ]
    }
   ],
   "source": [
    "k = np.asmatrix (j)  \n",
    "print (k,type(k))"
   ]
  },
  {
   "cell_type": "code",
   "execution_count": null,
   "id": "817feb63",
   "metadata": {},
   "outputs": [],
   "source": []
  }
 ],
 "metadata": {
  "kernelspec": {
   "display_name": "Python 3 (ipykernel)",
   "language": "python",
   "name": "python3"
  },
  "language_info": {
   "codemirror_mode": {
    "name": "ipython",
    "version": 3
   },
   "file_extension": ".py",
   "mimetype": "text/x-python",
   "name": "python",
   "nbconvert_exporter": "python",
   "pygments_lexer": "ipython3",
   "version": "3.9.13"
  }
 },
 "nbformat": 4,
 "nbformat_minor": 5
}
