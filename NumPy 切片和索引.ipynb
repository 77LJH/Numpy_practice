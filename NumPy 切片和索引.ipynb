{
 "cells": [
  {
   "cell_type": "markdown",
   "id": "6307ce56",
   "metadata": {},
   "source": [
    "# NumPy 切片和索引"
   ]
  },
  {
   "cell_type": "markdown",
   "id": "69b63a73",
   "metadata": {},
   "source": [
    "ndarray对象的内容可以通过索引或切片来访问和修改，与 Python 中 list 的切片操作一样。\n",
    "\n",
    "ndarray 数组可以基于 0 - n 的下标进行索引，切片对象可以通过内置的 slice 函数，并设置 start, stop 及 step 参数进行，从原数组中切割出一个新数组。"
   ]
  },
  {
   "cell_type": "code",
   "execution_count": 2,
   "id": "6ac62ee0",
   "metadata": {},
   "outputs": [
    {
     "name": "stdout",
     "output_type": "stream",
     "text": [
      "slice(2, 7, 2)\n",
      "[2 4 6]\n"
     ]
    }
   ],
   "source": [
    "import numpy as np\n",
    "\n",
    "a=np.arange(10)\n",
    "s=slice(2,7,2)  # 从索引 2 开始到索引 7 停止，间隔为2\n",
    "print(s)\n",
    "print(a[s])"
   ]
  },
  {
   "cell_type": "markdown",
   "id": "cf4ef342",
   "metadata": {},
   "source": [
    "以上实例中，我们首先通过 arange() 函数创建 ndarray 对象。 然后，分别设置起始，终止和步长的参数为 2，7 和 2。\n",
    "\n",
    "我们也可以通过冒号分隔切片参数 start:stop:step 来进行切片操作："
   ]
  },
  {
   "cell_type": "code",
   "execution_count": 5,
   "id": "1f2328a0",
   "metadata": {},
   "outputs": [
    {
     "name": "stdout",
     "output_type": "stream",
     "text": [
      "[2 4 6]\n"
     ]
    }
   ],
   "source": [
    "a=np.arange(10)\n",
    "b=a[2:7:2]\n",
    "print(b)"
   ]
  },
  {
   "cell_type": "markdown",
   "id": "ec2a9115",
   "metadata": {},
   "source": [
    "冒号 : 的解释：如果只放置一个参数，如 [2]，将返回与该索引相对应的单个元素。如果为 [2:]，表示从该索引开始以后的所有项都将被提取。如果使用了两个参数，如 [2:7]，那么则提取两个索引(不包括停止索引)之间的项。"
   ]
  },
  {
   "cell_type": "code",
   "execution_count": 6,
   "id": "2c15cc84",
   "metadata": {},
   "outputs": [
    {
     "data": {
      "text/plain": [
       "5"
      ]
     },
     "execution_count": 6,
     "metadata": {},
     "output_type": "execute_result"
    }
   ],
   "source": [
    "a=np.arange(10)\n",
    "b=a[5]\n",
    "b"
   ]
  },
  {
   "cell_type": "code",
   "execution_count": 7,
   "id": "1d62892c",
   "metadata": {},
   "outputs": [
    {
     "name": "stdout",
     "output_type": "stream",
     "text": [
      "[2 3 4 5 6 7 8 9]\n"
     ]
    }
   ],
   "source": [
    "a=np.arange(10)\n",
    "print(a[2:])"
   ]
  },
  {
   "cell_type": "code",
   "execution_count": 9,
   "id": "f8744e52",
   "metadata": {},
   "outputs": [
    {
     "name": "stdout",
     "output_type": "stream",
     "text": [
      "[2 3 4]\n"
     ]
    }
   ],
   "source": [
    "a=np.arange(10)\n",
    "print(a[2:5])"
   ]
  },
  {
   "cell_type": "markdown",
   "id": "95918945",
   "metadata": {},
   "source": [
    "多维数组同样适用上述索引提取方法："
   ]
  },
  {
   "cell_type": "code",
   "execution_count": 11,
   "id": "d4753bfa",
   "metadata": {},
   "outputs": [
    {
     "name": "stdout",
     "output_type": "stream",
     "text": [
      "[[1 2 3]\n",
      " [4 5 6]\n",
      " [7 8 9]]\n",
      "从数组索引a[1:]处开始切割\n",
      "[[4 5 6]\n",
      " [7 8 9]]\n"
     ]
    }
   ],
   "source": [
    "a=np.array([[1,2,3],[4,5,6],[7,8,9]])\n",
    "print(a)\n",
    "\n",
    "# 从某个索引开始切割\n",
    "print(\"从数组索引a[1:]处开始切割\")\n",
    "print(a[1:])"
   ]
  },
  {
   "cell_type": "markdown",
   "id": "5843e525",
   "metadata": {},
   "source": [
    "切片还可以包括省略号 …，来使选择元组的长度与数组的维度相同。 如果在行位置使用省略号，它将返回包含行中元素的 ndarray。"
   ]
  },
  {
   "cell_type": "code",
   "execution_count": 12,
   "id": "7d44494b",
   "metadata": {},
   "outputs": [
    {
     "name": "stdout",
     "output_type": "stream",
     "text": [
      "[2 5 8]\n",
      "[4 5 6]\n",
      "[[2 3]\n",
      " [5 6]\n",
      " [8 9]]\n"
     ]
    }
   ],
   "source": [
    "a=np.array([[1,2,3],[4,5,6],[7,8,9]])\n",
    "print(a[...,1])  # 第2列元素\n",
    "print(a[1,...]) # 第2行元素\n",
    "print(a[...,1:]) # 第2列及剩下的所有元素"
   ]
  },
  {
   "cell_type": "markdown",
   "id": "48da2951",
   "metadata": {},
   "source": [
    "在多维数组的切片中，使用 , 区分维数。\n",
    "\n",
    "实例如下："
   ]
  },
  {
   "cell_type": "code",
   "execution_count": 14,
   "id": "15336a90",
   "metadata": {},
   "outputs": [
    {
     "name": "stdout",
     "output_type": "stream",
     "text": [
      "[[ 0  1  2  3]\n",
      " [ 4  5  6  7]\n",
      " [ 8  9 10 11]]\n",
      "[[1 2]\n",
      " [5 6]]\n"
     ]
    }
   ],
   "source": [
    "a=np.arange(0,12)\n",
    "a.shape=(3,4)\n",
    "print(a)\n",
    "注意：冒号分隔切片不包含停止索引\n",
    "print(a[0:2,1:3])"
   ]
  },
  {
   "cell_type": "markdown",
   "id": "bfa2769f",
   "metadata": {},
   "source": [
    "在多维数组中，非连续索引切片："
   ]
  },
  {
   "cell_type": "code",
   "execution_count": 15,
   "id": "cf276392",
   "metadata": {},
   "outputs": [
    {
     "name": "stdout",
     "output_type": "stream",
     "text": [
      "a:\n",
      " [0 1 2 3 4 5]\n",
      "a_slice:\n",
      " [0 1 4]\n",
      "b:\n",
      " [[ 0  1  2  3  4]\n",
      " [ 5  6  7  8  9]\n",
      " [10 11 12 13 14]\n",
      " [15 16 17 18 19]\n",
      " [20 21 22 23 24]]\n",
      "b_slice:\n",
      " [[ 1  2  4]\n",
      " [ 6  7  9]\n",
      " [21 22 24]]\n"
     ]
    }
   ],
   "source": [
    "a=np.arange(0,6)\n",
    "b=np.arange(0,25)\n",
    "b.shape=(5,5)\n",
    "\n",
    "#切片向量既可以为array，也可以为list向量\n",
    "r=np.array([0,1,4])\n",
    "c=[1,2,4]\n",
    "\n",
    "print(\"a:\\n\",a)\n",
    "print(\"a_slice:\\n\",a[r])\n",
    "\n",
    "print(\"b:\\n\",b)\n",
    "print(\"b_slice:\\n\",b[r,:][:,c])"
   ]
  },
  {
   "cell_type": "markdown",
   "id": "63efd2fa",
   "metadata": {},
   "source": [
    "a[1:3, 2:5] 中逗号左边的为行，右边为列（第 2 行到第 3 行，第 3 列到第 5 列）,输出结果："
   ]
  },
  {
   "cell_type": "code",
   "execution_count": 16,
   "id": "04d866e7",
   "metadata": {},
   "outputs": [
    {
     "name": "stdout",
     "output_type": "stream",
     "text": [
      "[[ 0  1  2  3  4  5  6  7  8  9]\n",
      " [10 11 12 13 14 15 16 17 18 19]\n",
      " [20 21 22 23 24 25 26 27 28 29]\n",
      " [30 31 32 33 34 35 36 37 38 39]\n",
      " [40 41 42 43 44 45 46 47 48 49]\n",
      " [50 51 52 53 54 55 56 57 58 59]\n",
      " [60 61 62 63 64 65 66 67 68 69]\n",
      " [70 71 72 73 74 75 76 77 78 79]]\n",
      "[[12 13 14]\n",
      " [22 23 24]]\n"
     ]
    }
   ],
   "source": [
    "a=np.arange(0,80)\n",
    "a.shape=(8,10)\n",
    "print(a)\n",
    "print(a[1:3,2:5])"
   ]
  },
  {
   "cell_type": "markdown",
   "id": "0d16afc7",
   "metadata": {},
   "source": [
    "索引取的是 n 维数组中对应下标的对象，一个下标的索引，表示取最底层维度第几个元素（ndarray 逻辑结构：数组的数组），类似得到更高维的索引方法，所以索引是会改变维度的的。\n",
    "\n",
    "切片是取原来 ndarray 的所有维度某个部分相交的的那些元素构成新的 ndarray，切片不会改变维度"
   ]
  },
  {
   "cell_type": "code",
   "execution_count": 20,
   "id": "95752886",
   "metadata": {},
   "outputs": [
    {
     "name": "stdout",
     "output_type": "stream",
     "text": [
      "[4 5 6] \n",
      " 5 5\n",
      "1 0\n",
      "[[4 5 6]\n",
      " [7 8 9]] \n",
      " [[6]]\n",
      "2 2\n"
     ]
    }
   ],
   "source": [
    "a=np.array([[1,2,3],[4,5,6],[7,8,9]])\n",
    "print(a[1],\"\\n\",a[1,1],a[1][1])\n",
    "print(a[1].ndim,a[1,1].ndim)\n",
    "print(a[1:],\"\\n\",a[1:2,2:3])\n",
    "print(a[1:].ndim,a[1:2,2:3].ndim)"
   ]
  },
  {
   "cell_type": "markdown",
   "id": "b04fa73a",
   "metadata": {},
   "source": [
    "可以用 : 代替 ...："
   ]
  },
  {
   "cell_type": "code",
   "execution_count": 21,
   "id": "a6dd4d07",
   "metadata": {},
   "outputs": [
    {
     "name": "stdout",
     "output_type": "stream",
     "text": [
      "[2 4 5]\n",
      "[2 4 5]\n"
     ]
    }
   ],
   "source": [
    "a=np.array([[1,2,3],[3,4,5],[4,5,6]])\n",
    "print(a[...,1])  # 第2列元素\n",
    "print(a[:,1])  # 第2列元素"
   ]
  }
 ],
 "metadata": {
  "kernelspec": {
   "display_name": "Python 3 (ipykernel)",
   "language": "python",
   "name": "python3"
  },
  "language_info": {
   "codemirror_mode": {
    "name": "ipython",
    "version": 3
   },
   "file_extension": ".py",
   "mimetype": "text/x-python",
   "name": "python",
   "nbconvert_exporter": "python",
   "pygments_lexer": "ipython3",
   "version": "3.9.13"
  }
 },
 "nbformat": 4,
 "nbformat_minor": 5
}
