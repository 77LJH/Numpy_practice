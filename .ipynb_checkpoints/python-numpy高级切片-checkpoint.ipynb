{
 "cells": [
  {
   "cell_type": "markdown",
   "id": "575b063b",
   "metadata": {},
   "source": [
    "# 副本与视图"
   ]
  },
  {
   "cell_type": "markdown",
   "id": "3091850b",
   "metadata": {},
   "source": [
    "在Numpy中，尤其是在做数组运算或数组操作时，返回结果不是数组的副本就是视图。\n",
    "在Numpy中，所有赋值运算不会为数组和数组中的任何元素创建副本。\n",
    "numpy.ndarray.copy() 函数创建一个副本。 对副本数据进行修改，不会影响到原始数据，它们物理内存不在同一位置。"
   ]
  },
  {
   "cell_type": "code",
   "execution_count": 4,
   "id": "826684ae",
   "metadata": {},
   "outputs": [
    {
     "name": "stdout",
     "output_type": "stream",
     "text": [
      "[1 2 3 4 5 6 7 8]\n",
      "[-1  2  3  4  5  6  7  8]\n",
      "[-1  2  3  4  5  6  7  8]\n"
     ]
    }
   ],
   "source": [
    "import numpy as np\n",
    "\n",
    "x=np.array([1,2,3,4,5,6,7,8])\n",
    "print(x)\n",
    "y=x #  在Numpy中，所有赋值运算不会为数组和数组中的任何元素创建副本\n",
    "y[0]=-1\n",
    "print(x)\n",
    "print(y)"
   ]
  },
  {
   "cell_type": "markdown",
   "id": "a205b3a2",
   "metadata": {},
   "source": [
    "【例】数组切片操作返回的对象只是原数组的视图。"
   ]
  },
  {
   "cell_type": "code",
   "execution_count": 8,
   "id": "aac17451",
   "metadata": {},
   "outputs": [
    {
     "name": "stdout",
     "output_type": "stream",
     "text": [
      "[[-1 12 -1 14 15]\n",
      " [16 17 18 19 20]\n",
      " [-1 22 -1 24 25]\n",
      " [26 27 28 29 30]\n",
      " [-1 32 -1 34 35]]\n",
      "[[-1 12 -1 14 15]\n",
      " [16 17 18 19 20]\n",
      " [-1 22 -1 24 25]\n",
      " [26 27 28 29 30]\n",
      " [-1 32 -1 34 35]]\n",
      "------------\n",
      "[[11 12 13 14 15]\n",
      " [16 17 18 19 20]\n",
      " [21 22 23 24 25]\n",
      " [26 27 28 29 30]\n",
      " [31 32 33 34 35]]\n",
      "[[-1 12 -1 14 15]\n",
      " [16 17 18 19 20]\n",
      " [-1 22 -1 24 25]\n",
      " [26 27 28 29 30]\n",
      " [-1 32 -1 34 35]]\n"
     ]
    }
   ],
   "source": [
    "x = np.array([[11, 12, 13, 14, 15],\n",
    "              [16, 17, 18, 19, 20],\n",
    "              [21, 22, 23, 24, 25],\n",
    "              [26, 27, 28, 29, 30],\n",
    "              [31, 32, 33, 34, 35]])\n",
    "y=x\n",
    "y[::2,:3:2]=-1\n",
    "print(x)\n",
    "print(y)\n",
    "\n",
    "print(\"------------\")\n",
    "x = np.array([[11, 12, 13, 14, 15],\n",
    "              [16, 17, 18, 19, 20],\n",
    "              [21, 22, 23, 24, 25],\n",
    "              [26, 27, 28, 29, 30],\n",
    "              [31, 32, 33, 34, 35]])\n",
    "y=x.copy()\n",
    "y[::2,:3:2]=-1\n",
    "print(x)\n",
    "print(y)"
   ]
  },
  {
   "cell_type": "markdown",
   "id": "631261e8",
   "metadata": {},
   "source": [
    "# 索引与切片"
   ]
  },
  {
   "cell_type": "markdown",
   "id": "6d712370",
   "metadata": {},
   "source": [
    "切片索引"
   ]
  },
  {
   "cell_type": "markdown",
   "id": "c5c00602",
   "metadata": {},
   "source": [
    "切片操作是指抽取数组的一部分元素生成新数组。对 python 列表进行切片操作得到的数组是原数组的副本，而对 Numpy 数据进行切片操作得到的数组则是指向相同缓冲区的视图。\n",
    "\n",
    "如果想抽取（或查看）数组的一部分，必须使用切片语法，也就是，把几个用冒号（ start:stop:step ）隔开的数字置于方括号内。\n",
    "\n",
    "为了更好地理解切片语法，还应该了解不明确指明起始和结束位置的情况。如省去第一个数字，numpy 会认为第一个数字是0；如省去第二个数字，numpy 则会认为第二个数字是数组的最大索引值；如省去最后一个数字，它将会被理解为1，也就是抽取所有元素而不再考虑间隔。\n",
    "【例】对一维数组的切片"
   ]
  },
  {
   "cell_type": "code",
   "execution_count": 9,
   "id": "054b207f",
   "metadata": {},
   "outputs": [
    {
     "name": "stdout",
     "output_type": "stream",
     "text": [
      "[7 8]\n",
      "[1 2 3 4 5 6]\n"
     ]
    }
   ],
   "source": [
    "x = np.array([1, 2, 3, 4, 5, 6, 7, 8])\n",
    "print(x[-2:])  # [7 8]\n",
    "print(x[:-2])  # [1 2 3 4 5 6]"
   ]
  },
  {
   "cell_type": "markdown",
   "id": "ccb262c4",
   "metadata": {},
   "source": [
    "【例】对二维数组切片"
   ]
  },
  {
   "cell_type": "code",
   "execution_count": 10,
   "id": "560d4fa1",
   "metadata": {},
   "outputs": [
    {
     "name": "stdout",
     "output_type": "stream",
     "text": [
      "[21 22 23 24 25]\n",
      "[13 18 23 28 33]\n",
      "[12 13 14]\n",
      "[16 21 26]\n",
      "[[18 19]\n",
      " [23 24]]\n"
     ]
    }
   ],
   "source": [
    "x = np.array([[11, 12, 13, 14, 15],\n",
    "              [16, 17, 18, 19, 20],\n",
    "              [21, 22, 23, 24, 25],\n",
    "              [26, 27, 28, 29, 30],\n",
    "              [31, 32, 33, 34, 35]])\n",
    "print(x[2, :])  # [21 22 23 24 25]\n",
    "print(x[:, 2])  # [13 18 23 28 33]\n",
    "print(x[0, 1:4])  # [12 13 14]\n",
    "print(x[1:4, 0])  # [16 21 26]\n",
    "print(x[1:3, 2:4])\n",
    "print(x[::2, ::2])\n",
    "print(x[::-1, :])\n",
    "print(x[:, ::-1])"
   ]
  },
  {
   "cell_type": "markdown",
   "id": "c4ea1d2c",
   "metadata": {},
   "source": [
    "通过对每个以逗号分隔的维度执行单独的切片，你可以对多维数组进行切片。因此，对于二维数组，我们的第一片定义了行的切片，第二片定义了列的切片。"
   ]
  },
  {
   "cell_type": "code",
   "execution_count": 11,
   "id": "8848ee94",
   "metadata": {},
   "outputs": [
    {
     "name": "stdout",
     "output_type": "stream",
     "text": [
      "[[11  0 13 14  0]\n",
      " [16 17 18 19 20]\n",
      " [21  0 23 24  0]\n",
      " [26 27 28 29 30]\n",
      " [31  0 33 34  0]]\n"
     ]
    }
   ],
   "source": [
    "x = np.array([[11, 12, 13, 14, 15],\n",
    "              [16, 17, 18, 19, 20],\n",
    "              [21, 22, 23, 24, 25],\n",
    "              [26, 27, 28, 29, 30],\n",
    "              [31, 32, 33, 34, 35]])\n",
    "x[0::2, 1::3] = 0\n",
    "print(x)"
   ]
  },
  {
   "cell_type": "markdown",
   "id": "85a99469",
   "metadata": {},
   "source": [
    "# dots索引"
   ]
  },
  {
   "cell_type": "markdown",
   "id": "efd88573",
   "metadata": {},
   "source": [
    "NumPy 允许使用…表示足够多的冒号来构建完整的索引列表。\n",
    "\n",
    "比如，如果 x 是 5 维数组：\n",
    "\n",
    "x[1,2,…] 等于 x[1,2,:,:,:]\n",
    "x[…,3] 等于 x[:,:,:,:,3]\n",
    "x[4,…,5,:] 等于 x[4,:,:,5,:]\n",
    "\n",
    "\n",
    "print(x[1,...]) 将打印出第二个维度上的第二个元素（索引为 1）\n",
    "\n",
    "x[...,2] 是 Numpy 中的高级索引语法，它表示选择第三个维度上的第三个元素（索引为 2）。在这种情况下，... 表示选择所有剩余维度。"
   ]
  },
  {
   "cell_type": "code",
   "execution_count": 13,
   "id": "708ca06c",
   "metadata": {},
   "outputs": [
    {
     "name": "stdout",
     "output_type": "stream",
     "text": [
      "[[[90 24 83]\n",
      "  [81 24 59]]\n",
      "\n",
      " [[92  4  7]\n",
      "  [15 27 27]]]\n",
      "[[92  4  7]\n",
      " [15 27 27]]\n",
      "[[83 59]\n",
      " [ 7 27]]\n"
     ]
    }
   ],
   "source": [
    "x=np.random.randint(1,100,[2,2,3])\n",
    "print(x)\n",
    "print(x[1,...])\n",
    "print(x[...,2])"
   ]
  },
  {
   "cell_type": "markdown",
   "id": "7641a0ef",
   "metadata": {},
   "source": [
    "# 整数数组索引 --x[r] 将打印出一个新的数组，其形状与数组 r 相同，并且每个元素都是根据 r 中对应元素的索引从 x 中选择的。"
   ]
  },
  {
   "cell_type": "markdown",
   "id": "7f4aa696",
   "metadata": {},
   "source": [
    "例】方括号内传入多个索引值，可以同时选择多个元素。"
   ]
  },
  {
   "cell_type": "code",
   "execution_count": 18,
   "id": "0554c285",
   "metadata": {},
   "outputs": [
    {
     "name": "stdout",
     "output_type": "stream",
     "text": [
      "[1 2 3]\n",
      "[1 2 8]\n",
      "[[11 12 13 14 15]\n",
      " [16 17 18 19 20]\n",
      " [21 22 23 24 25]]\n",
      "[[11 12 13 14 15]\n",
      " [16 17 18 19 20]\n",
      " [31 32 33 34 35]]\n",
      "[13 19 25]\n"
     ]
    }
   ],
   "source": [
    "x=np.array([1,2,3,4,5,6,7,8])\n",
    "r=[0,1,2]\n",
    "print(x[r])\n",
    "\n",
    "r=[0,1,-1]\n",
    "print(x[r])\n",
    "\n",
    "x = np.array([[11, 12, 13, 14, 15],\n",
    "              [16, 17, 18, 19, 20],\n",
    "              [21, 22, 23, 24, 25],\n",
    "              [26, 27, 28, 29, 30],\n",
    "              [31, 32, 33, 34, 35]])\n",
    "r=[0,1,2]\n",
    "print(x[r])\n",
    "r=[0,1,-1]\n",
    "print(x[r])\n",
    "\n",
    "r=[0,1,2]\n",
    "c=[2,3,4]\n",
    "y=x[r,c]\n",
    "print(y)"
   ]
  },
  {
   "cell_type": "markdown",
   "id": "06a98a33",
   "metadata": {},
   "source": [
    "@@@@@@@@@极其重要 执行 print(x[r]) 将打印出一个新的数组，其形状与 r 相同，并且每个元素都是根据 r 中对应元素的索引从 x 中选择的。"
   ]
  },
  {
   "cell_type": "code",
   "execution_count": 25,
   "id": "0587f604",
   "metadata": {},
   "outputs": [
    {
     "name": "stdout",
     "output_type": "stream",
     "text": [
      "[[1 2]\n",
      " [4 5]]\n",
      "[[[11 12 13 14 15]\n",
      "  [16 17 18 19 20]]\n",
      "\n",
      " [[26 27 28 29 30]\n",
      "  [31 32 33 34 35]]]\n",
      "[[11 15]\n",
      " [31 35]]\n"
     ]
    }
   ],
   "source": [
    "x=np.array([1, 2, 3, 4, 5, 6, 7, 8])\n",
    "r = np.array([[0, 1], [3, 4]])\n",
    "print(x[r])\n",
    "\n",
    "x = np.array([[11, 12, 13, 14, 15],\n",
    "              [16, 17, 18, 19, 20],\n",
    "              [21, 22, 23, 24, 25],\n",
    "              [26, 27, 28, 29, 30],\n",
    "              [31, 32, 33, 34, 35]])\n",
    "r=np.array([[0,1],[3,4]])\n",
    "print(x[r])\n",
    "\n",
    "\n",
    "# 获取了 5X5 数组中的四个角的元素。\n",
    "# 行索引是 [0,0] 和 [4,4]，而列索引是 [0,4] 和 [0,4]。\n",
    "r=np.array([[0,0],[4,4]])\n",
    "c=np.array([[0,4],[0,4]])\n",
    "y=x[r,c]\n",
    "print(y)"
   ]
  },
  {
   "cell_type": "markdown",
   "id": "11b0fc82",
   "metadata": {},
   "source": [
    "【例】可以借助切片:与整数数组组合。"
   ]
  },
  {
   "cell_type": "code",
   "execution_count": 26,
   "id": "caa34499",
   "metadata": {},
   "outputs": [
    {
     "name": "stdout",
     "output_type": "stream",
     "text": [
      "[[12 13 13]\n",
      " [17 18 18]\n",
      " [22 23 23]]\n"
     ]
    }
   ],
   "source": [
    "x = np.array([[11, 12, 13, 14, 15],\n",
    "              [16, 17, 18, 19, 20],\n",
    "              [21, 22, 23, 24, 25],\n",
    "              [26, 27, 28, 29, 30],\n",
    "              [31, 32, 33, 34, 35]])\n",
    "y=x[0:3,[1,2,2]]\n",
    "print(y)"
   ]
  },
  {
   "cell_type": "markdown",
   "id": "f7791814",
   "metadata": {},
   "source": [
    "整数数组索引\n",
    "\n",
    "您的想法是正确的，Numpy 数组确实支持视图。当您使用 <<切片语法>> 来选择数组的一部分时，返回的结果通常是原始数组的一个视图。这意味着对视图中的元素进行更改将影响原始数组中对应的元素。\n",
    "\n",
    "但是，在您给出的示例中，它使用 <<索引语法>> 来选择第一个元素（索引为 [0,0]）b 变量并不是 a 数组的一个视图，而只是一个独立的变量。因此，更改 b 的值不会影响 a 数组中的元素。\n",
    "\n",
    "是的，您的理解是正确的。当您使用切片语法来选择 Numpy 数组的一部分时，返回的结果通常是原始数组的一个视图。这意味着对视图中的元素进行更改将影响原始数组中对应的元素。\n",
    "\n",
    "但是，当您使用索引语法来选择单个元素时，返回的结果不再是原始数组的一个视图，而只是一个独立的值。因此，更改该值不会影响原始数组中对应的元素。\n",
    "\n",
    "例如，在下面这段代码中：\n",
    "\n",
    "```\n",
    "a = np.array([[1,2],[3,4],[5,6]])\n",
    "b = a[0:1,0:1]\n",
    "c = a[0,0]\n",
    "```\n",
    "\n",
    "变量 `b` 是 `a` 数组第一行第一列元素（索引为 `[0:1,0:1]`）的一个视图，而变量 `c` 只是 `a[0,0]` 的一个独立值。因此，更改 `b` 中的元素将影响原始数组中对应的元素，而更改 `c` 的值则不会。"
   ]
  },
  {
   "cell_type": "code",
   "execution_count": 29,
   "id": "4b2cc602",
   "metadata": {},
   "outputs": [
    {
     "name": "stdout",
     "output_type": "stream",
     "text": [
      "[[1 2]\n",
      " [3 4]\n",
      " [5 6]]\n",
      "False\n"
     ]
    }
   ],
   "source": [
    "a=np.array([[1,2],[3,4],[5,6]])\n",
    "b=a[0,0]\n",
    "b=2\n",
    "print(a)\n",
    "print(a[0,0]==b)"
   ]
  },
  {
   "cell_type": "markdown",
   "id": "dc5ff359",
   "metadata": {},
   "source": [
    "如果您希望创建 a 数组的一个视图，并对其进行更改以影响原始数组，可以使用切片语法来实现。例如："
   ]
  },
  {
   "cell_type": "code",
   "execution_count": 30,
   "id": "a6eaaeb2",
   "metadata": {},
   "outputs": [
    {
     "name": "stdout",
     "output_type": "stream",
     "text": [
      "[[2 2]\n",
      " [3 4]\n",
      " [5 6]]\n"
     ]
    }
   ],
   "source": [
    "a = np.array([[1,2],[3,4],[5,6]])\n",
    "b = a[0:1,0:1]\n",
    "b[0,0] = 2\n",
    "print(a)"
   ]
  },
  {
   "cell_type": "markdown",
   "id": "5f39d86f",
   "metadata": {},
   "source": [
    "# 布尔索引"
   ]
  },
  {
   "cell_type": "markdown",
   "id": "96603700",
   "metadata": {},
   "source": [
    "我们可以通过一个布尔数组来索引目标数组。"
   ]
  },
  {
   "cell_type": "code",
   "execution_count": 33,
   "id": "e9bc88ee",
   "metadata": {},
   "outputs": [
    {
     "name": "stdout",
     "output_type": "stream",
     "text": [
      "[False False False False False  True  True  True]\n",
      "[6 7 8]\n",
      "[[False False False False False]\n",
      " [False False False False False]\n",
      " [False False False False False]\n",
      " [ True  True  True  True  True]\n",
      " [ True  True  True  True  True]]\n",
      "[26 27 28 29 30 31 32 33 34 35]\n"
     ]
    }
   ],
   "source": [
    "x=np.array([1, 2, 3, 4, 5, 6, 7, 8])\n",
    "y=x>5\n",
    "print(y)\n",
    "print(x[y])\n",
    "\n",
    "x=np.array([[11, 12, 13, 14, 15],\n",
    "              [16, 17, 18, 19, 20],\n",
    "              [21, 22, 23, 24, 25],\n",
    "              [26, 27, 28, 29, 30],\n",
    "              [31, 32, 33, 34, 35]])\n",
    "y=x>25\n",
    "print(y)\n",
    "print(x[y])"
   ]
  },
  {
   "cell_type": "code",
   "execution_count": 38,
   "id": "04692ad0",
   "metadata": {},
   "outputs": [
    {
     "name": "stdout",
     "output_type": "stream",
     "text": [
      "50\n",
      "25\n",
      "[ True  True  True  True  True  True  True  True  True  True  True  True\n",
      "  True  True  True  True  True  True  True  True  True  True  True  True\n",
      "  True False False False False False False False False False False False\n",
      " False False False False False False False False False False False False\n",
      " False False]\n",
      "[ True  True  True  True  True  True  True  True  True  True  True  True\n",
      "  True False False False False False False False False False False False\n",
      " False False False False False False False False False False False False\n",
      " False False False False False False False False False False False False\n",
      " False False]\n"
     ]
    },
    {
     "data": {
      "text/plain": [
       "[<matplotlib.lines.Line2D at 0x2520c035430>]"
      ]
     },
     "execution_count": 38,
     "metadata": {},
     "output_type": "execute_result"
    },
    {
     "data": {
      "image/png": "[encoded data removed]",
      "text/plain": [
       "<Figure size 640x480 with 1 Axes>"
      ]
     },
     "metadata": {},
     "output_type": "display_data"
    }
   ],
   "source": [
    "import matplotlib.pyplot as plt\n",
    "x=np.linspace(0,2*np.pi,50) #在(0,2*np.pi)的等差数列\n",
    "y=np.sin(x)\n",
    "print(len(x))\n",
    "\n",
    "plt.plot(x,y)\n",
    "\n",
    "mask=y>=0 # 布尔型数组\n",
    "print(len(x[mask]))\n",
    "print(mask)\n",
    "\n",
    "plt.plot(x[mask],y[mask],\"bo\")\n",
    "\n",
    "mask=np.logical_and(y>=0,x<=np.pi/2)\n",
    "print(mask)\n",
    "\n",
    "plt.plot(x[mask],y[mask],\"go\")\n",
    "# 蓝色点（在图中还包括绿点，但绿点掩盖了蓝色点），显示值 大于0 的所有点。\n",
    "# 绿色点表示值 大于0 且 小于0.5π 的所有点。\n"
   ]
  },
  {
   "cell_type": "markdown",
   "id": "ed953783",
   "metadata": {},
   "source": [
    "数组迭代\n",
    "除了for循环，Numpy 还提供另外一种更为优雅的遍历方法。\n",
    "\n",
    "apply_along_axis(func1d, axis, arr) Apply a function to 1-D slices along the given axis."
   ]
  },
  {
   "cell_type": "code",
   "execution_count": 42,
   "id": "4da805d6",
   "metadata": {},
   "outputs": [
    {
     "name": "stdout",
     "output_type": "stream",
     "text": [
      "[105 110 115 120 125]\n",
      "[ 65  90 115 140 165]\n",
      "[21. 22. 23. 24. 25.]\n",
      "[13. 18. 23. 28. 33.]\n",
      "[21. 22. 23. 24. 25.]\n",
      "[13. 18. 23. 28. 33.]\n"
     ]
    }
   ],
   "source": [
    "x=np.array([[11, 12, 13, 14, 15],\n",
    "              [16, 17, 18, 19, 20],\n",
    "              [21, 22, 23, 24, 25],\n",
    "              [26, 27, 28, 29, 30],\n",
    "              [31, 32, 33, 34, 35]])\n",
    "\n",
    "# 当第二个参数为0时，函数沿着列方向计算每一列的元素之和；\n",
    "# 当第二个参数为1时，函数沿着行方向计算每一行的元素之和。打印出结果。\n",
    "y=np.apply_along_axis(np.sum,0,x)\n",
    "print(y)\n",
    "\n",
    "y=np.apply_along_axis(np.sum,1,x)\n",
    "print(y)\n",
    "\n",
    "y=np.apply_along_axis(np.mean,0,x)\n",
    "print(y)\n",
    "y=np.apply_along_axis(np.mean,1,x)\n",
    "print(y)\n",
    "\n",
    "def my_func(x):\n",
    "    return (x[0]+x[-1])*0.5\n",
    "y=np.apply_along_axis(my_func,0,x)\n",
    "print(y)\n",
    "y=np.apply_along_axis(my_func,1,x)\n",
    "print(y)"
   ]
  }
 ],
 "metadata": {
  "kernelspec": {
   "display_name": "Python 3 (ipykernel)",
   "language": "python",
   "name": "python3"
  },
  "language_info": {
   "codemirror_mode": {
    "name": "ipython",
    "version": 3
   },
   "file_extension": ".py",
   "mimetype": "text/x-python",
   "name": "python",
   "nbconvert_exporter": "python",
   "pygments_lexer": "ipython3",
   "version": "3.9.13"
  }
 },
 "nbformat": 4,
 "nbformat_minor": 5
}
