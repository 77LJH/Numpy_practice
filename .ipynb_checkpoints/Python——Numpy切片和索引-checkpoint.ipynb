{
 "cells": [
  {
   "cell_type": "markdown",
   "id": "d9b5aaac",
   "metadata": {},
   "source": [
    "# 用slice()函数创建切片对象"
   ]
  },
  {
   "cell_type": "code",
   "execution_count": 2,
   "id": "dc8b5865",
   "metadata": {},
   "outputs": [
    {
     "name": "stdout",
     "output_type": "stream",
     "text": [
      "slice(2, 7, 2)\n",
      "[2 4 6]\n"
     ]
    }
   ],
   "source": [
    "# 创建一个一维数组\n",
    "import numpy as np\n",
    "a=np.arange(20)\n",
    "s=slice(2,7,2)\n",
    "print(s)\n",
    "print(a[s])"
   ]
  },
  {
   "cell_type": "markdown",
   "id": "121e8d11",
   "metadata": {},
   "source": [
    "[start:stop:step] 直接传入切片参数"
   ]
  },
  {
   "cell_type": "code",
   "execution_count": 6,
   "id": "a2b32a19",
   "metadata": {},
   "outputs": [
    {
     "name": "stdout",
     "output_type": "stream",
     "text": [
      "2 \n",
      " [2 3 4 5 6] \n",
      " [10 11 12 13 14 15 16 17 18 19] \n",
      " [0 1 2 3 4 5 6 7 8 9] \n",
      " [19 18 17 16 15 14 13 12 11 10  9  8  7  6  5  4  3  2  1  0] \n",
      " [19 18 17 16 15 14 13 12 11 10  9]\n"
     ]
    }
   ],
   "source": [
    "a=np.arange(20)\n",
    "c0=a[2]\n",
    "c1=a[2:7:1]\n",
    "c2=a[10:]\n",
    "c3=a[:10]\n",
    "c4=a[::-1]\n",
    "c5=a[:8:-1]\n",
    "print(c0,'\\n',c1,'\\n',c2,'\\n',c3,'\\n',c4,'\\n',c5)"
   ]
  },
  {
   "cell_type": "markdown",
   "id": "b5903eea",
   "metadata": {},
   "source": [
    "多维数组使用切片"
   ]
  },
  {
   "cell_type": "code",
   "execution_count": 7,
   "id": "44fee32c",
   "metadata": {},
   "outputs": [
    {
     "name": "stdout",
     "output_type": "stream",
     "text": [
      "a[1]:\n",
      " [3 4 5]\n",
      "a[1:]:\n",
      " [[3 4 5]\n",
      " [4 5 6]]\n",
      "a[::2]:\n",
      " [[1 2 3]\n",
      " [4 5 6]]\n",
      "a[::-1]:\n",
      " [[4 5 6]\n",
      " [3 4 5]\n",
      " [1 2 3]]\n"
     ]
    }
   ],
   "source": [
    "a=np.array([[1,2,3],[3,4,5],[4,5,6]])\n",
    "print('a[1]:\\n',a[1])\n",
    "print('a[1:]:\\n',a[1:])\n",
    "print('a[::2]:\\n',a[::2])\n",
    "print('a[::-1]:\\n',a[::-1])"
   ]
  },
  {
   "cell_type": "markdown",
   "id": "8d4eb4fe",
   "metadata": {},
   "source": [
    "切片对象中包含 “…”\n",
    "切片对象 [] 中包含省略号…\n",
    "作用： 使得 选择元组的长度 = 数组的维度\n",
    "\n",
    "如果在行位置使用 … return包含行中元素的ndarray"
   ]
  },
  {
   "cell_type": "code",
   "execution_count": 9,
   "id": "2bb6c7a1",
   "metadata": {},
   "outputs": [
    {
     "name": "stdout",
     "output_type": "stream",
     "text": [
      "第2列元素 [2 4 5]\n",
      "第2列元素 [2 4 5]\n",
      "第2行元素 [3 4 5]\n",
      "第2行元素 [3 4 5]\n",
      "第2行元素 [3 4 5]\n",
      "第2列开始剩下的所有列\n",
      " [[2 3]\n",
      " [4 5]\n",
      " [5 6]]\n",
      "第2列开始剩下的所有列\n",
      " [[2 3]\n",
      " [4 5]\n",
      " [5 6]]\n"
     ]
    }
   ],
   "source": [
    "import numpy as np\n",
    "a = np.array([[1, 2, 3], [3, 4, 5], [4, 5, 6]])\n",
    "print('第2列元素',a[::,1])\n",
    "# 等价于\n",
    "print('第2列元素',a[...,1])\n",
    "\n",
    "print('第2行元素',a[1,])\n",
    "#d等价于\n",
    "print('第2行元素',a[1,::])\n",
    "#d等价于\n",
    "print('第2行元素',a[1,...])\n",
    "print('第2列开始剩下的所有列\\n',a[::,1:])\n",
    "#等价于\n",
    "print('第2列开始剩下的所有列\\n',a[...,1:])\n"
   ]
  },
  {
   "cell_type": "markdown",
   "id": "1cc28ab7",
   "metadata": {},
   "source": [
    "总结：\n",
    "[]中，逗号，区分的是维度，冒号：区分的是索引，省略号… 用来代替全索引长度"
   ]
  }
 ],
 "metadata": {
  "kernelspec": {
   "display_name": "Python 3 (ipykernel)",
   "language": "python",
   "name": "python3"
  },
  "language_info": {
   "codemirror_mode": {
    "name": "ipython",
    "version": 3
   },
   "file_extension": ".py",
   "mimetype": "text/x-python",
   "name": "python",
   "nbconvert_exporter": "python",
   "pygments_lexer": "ipython3",
   "version": "3.9.13"
  }
 },
 "nbformat": 4,
 "nbformat_minor": 5
}
