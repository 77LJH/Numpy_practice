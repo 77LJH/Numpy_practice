{
 "cells": [
  {
   "cell_type": "markdown",
   "id": "137b22f2",
   "metadata": {},
   "source": [
    "Numpy 中包含了一些函数用于处理数组，大概可分为以下几类：\n",
    "\n",
    "修改数组形状\n",
    "翻转数组\n",
    "修改数组维度\n",
    "连接数组\n",
    "分割数组\n",
    "数组元素的添加与删除\n"
   ]
  },
  {
   "cell_type": "markdown",
   "id": "bae54237",
   "metadata": {},
   "source": [
    "# 修改数组形状"
   ]
  },
  {
   "attachments": {
    "image.png": {
     "image/png": "[encoded data removed]"
    }
   },
   "cell_type": "markdown",
   "id": "2c06d04a",
   "metadata": {},
   "source": [
    "![image.png](attachment:image.png)"
   ]
  },
  {
   "cell_type": "markdown",
   "id": "2a2c04e2",
   "metadata": {},
   "source": [
    "numpy.reshape"
   ]
  },
  {
   "cell_type": "markdown",
   "id": "0c68b3a6",
   "metadata": {},
   "source": [
    "numpy.reshape 函数可以在不改变数据的条件下修改形状，格式如下：\n",
    "numpy.reshape(arr, newshape, order='C')\n",
    "\n",
    "arr：要修改形状的数组\n",
    "\n",
    "newshape：整数或者整数数组，新的形状应当兼容原有形状\n",
    "\n",
    "order：'C' -- 按行，'F' -- 按列，'A' -- 原顺序，'k' -- 元素在内存中的出现顺序。"
   ]
  },
  {
   "cell_type": "code",
   "execution_count": 25,
   "id": "b3c555a9",
   "metadata": {},
   "outputs": [
    {
     "name": "stdout",
     "output_type": "stream",
     "text": [
      "原始数组：\n",
      "[0 1 2 3 4 5 6 7]\n",
      "\n",
      "\n",
      "修改后的数组：\n",
      "[[0 1]\n",
      " [2 3]\n",
      " [4 5]\n",
      " [6 7]]\n"
     ]
    }
   ],
   "source": [
    "import numpy as np\n",
    "a=np.arange(8)\n",
    "print ('原始数组：')\n",
    "print (a)\n",
    "print ('\\n')\n",
    "\n",
    "b=a.reshape(4,2)\n",
    "print ('修改后的数组：')\n",
    "print (b)"
   ]
  },
  {
   "cell_type": "markdown",
   "id": "1d584a84",
   "metadata": {},
   "source": [
    "numpy.ndarray.flat\n",
    "\n",
    "numpy.ndarray.flat 是一个数组元素迭代器，实例如下:"
   ]
  },
  {
   "cell_type": "code",
   "execution_count": 26,
   "id": "39cf7cfe",
   "metadata": {},
   "outputs": [
    {
     "name": "stdout",
     "output_type": "stream",
     "text": [
      "原始数组\n",
      "[0 1 2]\n",
      "[3 4 5]\n",
      "[6 7 8]\n",
      "迭代后的数组：\n",
      "0\n",
      "1\n",
      "2\n",
      "3\n",
      "4\n",
      "5\n",
      "6\n",
      "7\n",
      "8\n"
     ]
    }
   ],
   "source": [
    "a=np.arange(9).reshape(3,3)\n",
    "print(\"原始数组\")\n",
    "for row in a:\n",
    "    print(row)\n",
    "    \n",
    "#对数组中每个元素都进行处理，可以使用flat属性，该属性是一个数组元素迭代器：\n",
    "print ('迭代后的数组：')\n",
    "for element in a.flat:\n",
    "    print(element)"
   ]
  },
  {
   "cell_type": "markdown",
   "id": "7652471f",
   "metadata": {},
   "source": [
    "numpy.ndarray.flatten\n",
    "\n",
    "numpy.ndarray.flatten 返回一份数组拷贝，对拷贝所做的修改不会影响原始数组，格式如下：\n",
    "\n",
    "ndarray.flatten(order='C')\n",
    "\n",
    "参数说明：\n",
    "\n",
    "order：'C' -- 按行，'F' -- 按列，'A' -- 原顺序，'K' -- 元素在内存中的出现顺序。\n",
    "\n",
    "a.flatten()方法是用于将数组a展开成一维数组的方法。\n",
    "\n",
    "如果想要按照不同的顺序来展开多维数组，可以使用a.flatten(order='C')或a.flatten(order='F')来指定展开的顺序。其中，order='C'表示按行展开（C-style order，即按照内存中连续的方式展开），order='F'表示按列展开（Fortran-style order，即按照列的方式展开）。如果不指定order参数，默认情况下会按照C风格的顺序展开数组。\n",
    "\n",
    "在NumPy中，order='K'表示按照元素在内存中出现的顺序来展开数组。如果数组是连续的（即不需要跨越多个块来访问数组中的元素），则该顺序与按行（order='C'）或按列（order='F'）的顺序相同。但如果数组是非连续的，则展开顺序可能会发生变化，因为这取决于数据在内存中的布局方式。\n",
    "\n",
    "一般情况下，不需要特别指定order参数，因为默认的C-style顺序已经能够满足大多数的需求了。如果需要按照特定的顺序展开数组，才需要指定order参数。\n"
   ]
  },
  {
   "cell_type": "code",
   "execution_count": 27,
   "id": "37e8d400",
   "metadata": {},
   "outputs": [
    {
     "name": "stdout",
     "output_type": "stream",
     "text": [
      "原数组：\n",
      "[[0 1 2 3]\n",
      " [4 5 6 7]]\n",
      "\n",
      "\n",
      "展开的数组：\n",
      "[0 1 2 3 4 5 6 7]\n",
      "\n",
      "\n",
      "以 F 风格顺序展开的数组：\n",
      "[0 4 1 5 2 6 3 7]\n"
     ]
    }
   ],
   "source": [
    "a=np.arange(8).reshape(2,4)\n",
    "\n",
    "print ('原数组：')\n",
    "print (a)\n",
    "print ('\\n')\n",
    "# 默认按行\n",
    "\n",
    "print ('展开的数组：')\n",
    "print(a.flatten())\n",
    "print(\"\\n\")\n",
    "\n",
    "print ('以 F 风格顺序展开的数组：')\n",
    "print(a.flatten(order=\"F\"))"
   ]
  },
  {
   "cell_type": "markdown",
   "id": "3cdcabdf",
   "metadata": {},
   "source": [
    "numpy.ravel\n",
    "numpy.ravel() 展平的数组元素，顺序通常是\"C风格\"，返回的是数组视图（view，有点类似 C/C++引用reference的意味），修改会影响原始数组。\n",
    "\n",
    "该函数接收两个参数：\n",
    "\n",
    "numpy.ravel(a, order='C')\n",
    "\n",
    "参数说明：\n",
    "\n",
    "order：'C' -- 按行，'F' -- 按列，'A' -- 原顺序，'K' -- 元素在内存中的出现顺序。"
   ]
  },
  {
   "cell_type": "code",
   "execution_count": 28,
   "id": "171a3599",
   "metadata": {},
   "outputs": [
    {
     "name": "stdout",
     "output_type": "stream",
     "text": [
      "原数组：\n",
      "[[0 1 2 3]\n",
      " [4 5 6 7]]\n",
      "\n",
      "\n",
      "调用 ravel 函数之后：\n",
      "[0 1 2 3 4 5 6 7]\n",
      "\n",
      "\n",
      "以 F 风格顺序调用 ravel 函数之后：\n",
      "[0 4 1 5 2 6 3 7]\n"
     ]
    }
   ],
   "source": [
    "a = np.arange(8).reshape(2,4)\n",
    " \n",
    "print ('原数组：')\n",
    "print (a)\n",
    "print ('\\n')\n",
    " \n",
    "print ('调用 ravel 函数之后：')\n",
    "print (a.ravel())\n",
    "print ('\\n')\n",
    "\n",
    "print ('以 F 风格顺序调用 ravel 函数之后：')\n",
    "print (a.ravel(order = 'F'))"
   ]
  },
  {
   "cell_type": "markdown",
   "id": "991ea187",
   "metadata": {},
   "source": [
    "# 翻转数组"
   ]
  },
  {
   "attachments": {
    "image.png": {
     "image/png": "[encoded data removed]"
    }
   },
   "cell_type": "markdown",
   "id": "3cdb2b15",
   "metadata": {},
   "source": [
    "![image.png](attachment:image.png)\n",
    "\n",
    "numpy.transpose\n",
    "\n",
    "numpy.transpose 函数用于对换数组的维度，格式如下：\n",
    "\n",
    "numpy.transpose(arr, axes)\n",
    "\n",
    "参数说明:\n",
    "\n",
    "arr：要操作的数组\n",
    "axes：整数列表，对应维度，通常所有维度都会对换。"
   ]
  },
  {
   "cell_type": "code",
   "execution_count": 29,
   "id": "ca591f5d",
   "metadata": {},
   "outputs": [
    {
     "name": "stdout",
     "output_type": "stream",
     "text": [
      "原数组：\n",
      "[[ 0  1  2  3]\n",
      " [ 4  5  6  7]\n",
      " [ 8  9 10 11]]\n",
      "\n",
      "\n",
      "对换数组：\n",
      "[[ 0  4  8]\n",
      " [ 1  5  9]\n",
      " [ 2  6 10]\n",
      " [ 3  7 11]]\n"
     ]
    }
   ],
   "source": [
    "a=np.arange(12).reshape(3,4)\n",
    "print ('原数组：')\n",
    "print (a )\n",
    "print ('\\n')\n",
    " \n",
    "print ('对换数组：')\n",
    "print(np.transpose(a))"
   ]
  },
  {
   "cell_type": "code",
   "execution_count": 30,
   "id": "32b8922b",
   "metadata": {},
   "outputs": [
    {
     "name": "stdout",
     "output_type": "stream",
     "text": [
      "原数组：\n",
      "[[ 0  1  2  3]\n",
      " [ 4  5  6  7]\n",
      " [ 8  9 10 11]]\n",
      "\n",
      "\n",
      "转置数组：\n",
      "[[ 0  4  8]\n",
      " [ 1  5  9]\n",
      " [ 2  6 10]\n",
      " [ 3  7 11]]\n"
     ]
    }
   ],
   "source": [
    "a=np.arange(12).reshape(3,4)\n",
    "print ('原数组：')\n",
    "print (a)\n",
    "print ('\\n')\n",
    " \n",
    "print ('转置数组：')\n",
    "print(a.T)"
   ]
  },
  {
   "cell_type": "markdown",
   "id": "76f1a0d4",
   "metadata": {},
   "source": [
    "numpy.rollaxis\n",
    "\n",
    "rollaxis函数可以将数组的某个轴移动到指定位置，但是保持其他轴的相对位置不变，也就是说，移动的轴会插入到其他轴之间，不会打乱原来的相对位置关系。例如，如果有一个三维数组，形状为(3, 4, 5)，我们可以将第一个轴移动到最后一个轴的位置，得到一个新的数组，形状为(4, 5, 3)，但是其他两个轴的相对位置不变。\n",
    "numpy.rollaxis 函数向后滚动特定的轴到一个特定位置，格式如下：\n",
    "\n",
    "numpy.rollaxis(arr, axis, start)\n",
    "\n",
    "参数说明：\n",
    "\n",
    "arr：数组\n",
    "\n",
    "axis：要向后滚动的轴，其它轴的相对位置不会改变\n",
    "\n",
    "start：默认为零，表示完整的滚动。会滚动到特定位置。"
   ]
  },
  {
   "cell_type": "code",
   "execution_count": 31,
   "id": "81f7706b",
   "metadata": {},
   "outputs": [
    {
     "name": "stdout",
     "output_type": "stream",
     "text": [
      "原数组：\n",
      "[[[0 1]\n",
      "  [2 3]]\n",
      "\n",
      " [[4 5]\n",
      "  [6 7]]]\n",
      "获取数组中一个值：\n",
      "(array([1], dtype=int64), array([1], dtype=int64), array([0], dtype=int64))\n",
      "6\n",
      "\n",
      "\n",
      "调用 rollaxis 函数：\n",
      "[[[0 2]\n",
      "  [4 6]]\n",
      "\n",
      " [[1 3]\n",
      "  [5 7]]]\n",
      "(array([0], dtype=int64), array([1], dtype=int64), array([1], dtype=int64))\n",
      "\n",
      "\n",
      "调用 rollaxis 函数：\n",
      "[[[0 2]\n",
      "  [1 3]]\n",
      "\n",
      " [[4 6]\n",
      "  [5 7]]]\n",
      "(array([1], dtype=int64), array([0], dtype=int64), array([1], dtype=int64))\n"
     ]
    }
   ],
   "source": [
    "# 创建三维的ndarray\n",
    "a=np.arange(8).reshape(2,2,2)\n",
    "\n",
    "print ('原数组：')\n",
    "print (a)\n",
    "print ('获取数组中一个值：')\n",
    "print(np.where(a==6))\n",
    "print(a[1,1,0]) # 6\n",
    "print(\"\\n\")\n",
    "\n",
    "# 将轴 2 滚动到轴 0（宽度到深度）\n",
    "\n",
    "print(\"调用 rollaxis 函数：\")\n",
    "b=np.rollaxis(a,2,0)\n",
    "print(b)\n",
    "# 查看元素 a[1,1,0]，即 6 的坐标，变成 [0, 1, 1]\n",
    "# 最后一个 0 移动到最前面\n",
    "print(np.where(b==6))\n",
    "print(\"\\n\")\n",
    "\n",
    "# 将轴 2 滚动到轴 1：（宽度到高度）\n",
    " \n",
    "print ('调用 rollaxis 函数：')\n",
    "c=np.rollaxis(a,2,1)\n",
    "print(c)\n",
    "# 查看元素 a[1,1,0]，即 6 的坐标，变成 [1, 0, 1]\n",
    "# 最后的 0 和 它前面的 1 对换位置\n",
    "print(np.where(c==6))"
   ]
  },
  {
   "cell_type": "markdown",
   "id": "c3ec5a81",
   "metadata": {},
   "source": [
    "numpy.swapaxes\n",
    "\n",
    "swapaxes函数可以交换数组的两个轴的位置，但是不会改变其他轴的相对位置关系。例如，如果有一个三维数组，形状为(3, 4, 5)，我们可以将第一个轴和第三个轴的位置交换，得到一个新的数组，形状为(5, 5, 3)，但是第三个轴的位置不变。\n",
    "\n",
    "numpy.swapaxes 函数用于交换数组的两个轴，格式如下：\n",
    "\n",
    "numpy.swapaxes(arr, axis1, axis2)\n",
    "\n",
    "arr：输入的数组\n",
    "\n",
    "axis1：对应第一个轴的整数\n",
    "\n",
    "axis2：对应第二个轴的整数"
   ]
  },
  {
   "cell_type": "code",
   "execution_count": 32,
   "id": "eee993d6",
   "metadata": {},
   "outputs": [
    {
     "name": "stdout",
     "output_type": "stream",
     "text": [
      "原数组：\n",
      "[[[0 1]\n",
      "  [2 3]]\n",
      "\n",
      " [[4 5]\n",
      "  [6 7]]]\n",
      "\n",
      "\n",
      "调用 swapaxes 函数后的数组：\n",
      "[[[0 4]\n",
      "  [2 6]]\n",
      "\n",
      " [[1 5]\n",
      "  [3 7]]]\n"
     ]
    }
   ],
   "source": [
    "a=np.arange(8).reshape(2,2,2)\n",
    "print ('原数组：')\n",
    "print (a)\n",
    "print ('\\n')\n",
    "# 现在交换轴 0（深度方向）到轴 2（宽度方向）\n",
    " \n",
    "print ('调用 swapaxes 函数后的数组：')\n",
    "print(np.swapaxes(a,2,0))"
   ]
  },
  {
   "cell_type": "markdown",
   "id": "810c2e19",
   "metadata": {},
   "source": [
    "# 修改数组维度"
   ]
  },
  {
   "attachments": {
    "image.png": {
     "image/png": "[encoded data removed]"
    }
   },
   "cell_type": "markdown",
   "id": "a0cc375c",
   "metadata": {},
   "source": [
    "![image.png](attachment:image.png)\n",
    "\n",
    "numpy.broadcast\n",
    "numpy.broadcast 用于模仿广播的对象，它返回一个对象，该对象封装了将一个数组广播到另一个数组的结果。\n",
    "\n",
    "广播对象 b 是一个由 x 和 y 组成的元组，表示在执行二元操作（例如加法）时，NumPy 会自动将 x 和 y 扩展成具有相同形状的数组。具体来说，b 是一个元组，其中每个元素都是一个广播对象，用于将相应的数组扩展为具有相同形状。通过使用 np.broadcast(x, y) 函数，可以创建一个广播对象 b，该对象描述了在执行二元操作操作时，NumPy 将对 x 和 y 进行的自动扩展操作。可以使用广播对象的属性（如 shape）来获取广播后的数组形状，也可以使用广播对象的迭代器，逐个访问广播后的数组元素。\n",
    "\n",
    "该函数使用两个数组作为输入参数，如下实例：\n",
    "\n",
    "b.iters返回的是一个迭代器元组，其中r是x广播后的数组的迭代器，c是y广播后的数组的迭代器。\n",
    "\n",
    "r是：\n",
    "\n",
    "[[1,1,1]\n",
    " [2,2,2]\n",
    " [3,3,3]]\n",
    " \n",
    "c是：\n",
    "\n",
    "[[4,5,6]\n",
    " [4,5,6]\n",
    " [4,5,6]]\n",
    "\n",
    "执行print(next(r), next(c))时，分别从r和c中获取一个元素，即得到x和y的第一个元素进行相加操作。再执行一次print(next(r), next(c))，则得到x和y的第二个元素进行相加操作。因此输出结果为："
   ]
  },
  {
   "cell_type": "code",
   "execution_count": 35,
   "id": "dbd62080",
   "metadata": {},
   "outputs": [
    {
     "name": "stdout",
     "output_type": "stream",
     "text": [
      "对 y 广播 x：\n",
      "1 4\n",
      "1 5\n",
      "1 6\n",
      "2 4\n",
      "2 5\n",
      "2 6\n",
      "\n",
      "\n",
      "广播对象的形状\n",
      "(3, 3)\n",
      "\n",
      "\n",
      "[[5. 6. 7.]\n",
      " [6. 7. 8.]\n",
      " [7. 8. 9.]]\n",
      "手动使用 broadcast 将 x 与 y 相加：\n",
      "(3, 3)\n",
      "\n",
      "\n",
      "\n",
      "\n",
      "调用 flat 函数：\n",
      "[[5. 6. 7.]\n",
      " [6. 7. 8.]\n",
      " [7. 8. 9.]]\n",
      "\n",
      "\n",
      "x 与 y 的和：\n",
      "[[5 6 7]\n",
      " [6 7 8]\n",
      " [7 8 9]]\n"
     ]
    }
   ],
   "source": [
    "x=np.array([[1],[2],[3]])\n",
    "y=np.array([4,5,6])\n",
    "\n",
    "# 对 y 广播 x\n",
    "b=np.broadcast(x,y)\n",
    "# 它拥有 iterator 属性，基于自身组件的迭代器元组\n",
    "\n",
    "print ('对 y 广播 x：')\n",
    "# 然后使用np.broadcast()函数将数组y广播到数组x的形状上。\n",
    "# 广播后，b对象可以使用iters属性获取两个迭代器r和c，它们分别表示数组x和y的元素迭代器。\n",
    "r,c=b.iters\n",
    "\n",
    "# Python3.x 为 next(context) ，Python2.x 为 context.next()\n",
    "print(next(r),next(c))\n",
    "print(next(r),next(c))\n",
    "print(next(r),next(c))\n",
    "\n",
    "print(next(r),next(c))\n",
    "print(next(r),next(c))\n",
    "print(next(r),next(c))\n",
    "\n",
    "print(\"\\n\")\n",
    "\n",
    "print(\"广播对象的形状\")\n",
    "print(b.shape)\n",
    "print(\"\\n\")\n",
    "\n",
    "b=np.broadcast(x,y)\n",
    "c=np.empty(b.shape) # 未初始化\n",
    "\n",
    "print(c)\n",
    "print ('手动使用 broadcast 将 x 与 y 相加：')\n",
    "print(c.shape)\n",
    "print(\"\\n\")\n",
    "print ('\\n')\n",
    "c.flat=[u+v for (u,v) in b]\n",
    "\n",
    "print ('调用 flat 函数：')\n",
    "print (c)\n",
    "print ('\\n')\n",
    "# 获得了和 NumPy 内建的广播支持相同的结果\n",
    " \n",
    "print ('x 与 y 的和：')\n",
    "print (x + y)"
   ]
  },
  {
   "cell_type": "raw",
   "id": "f863f5c8",
   "metadata": {},
   "source": [
    "numpy.broadcast_to\n",
    "numpy.broadcast_to 函数将数组广播到新形状。它在原始数组上返回只读视图。 它通常不连续。 如果新形状不符合 NumPy 的广播规则，该函数可能会抛出ValueError。\n",
    "\n",
    "numpy.broadcast_to(array, shape, subok)"
   ]
  },
  {
   "cell_type": "code",
   "execution_count": 37,
   "id": "76a6a1cb",
   "metadata": {},
   "outputs": [
    {
     "name": "stdout",
     "output_type": "stream",
     "text": [
      "原数组：\n",
      "[[0 1 2 3]]\n",
      "\n",
      "\n",
      "调用 broadcast_to 函数之后：\n",
      "[[0 1 2 3]\n",
      " [0 1 2 3]\n",
      " [0 1 2 3]\n",
      " [0 1 2 3]]\n"
     ]
    }
   ],
   "source": [
    "a=np.arange(4).reshape(1,4)\n",
    "\n",
    "print ('原数组：')\n",
    "print (a)\n",
    "print ('\\n')\n",
    "\n",
    "print ('调用 broadcast_to 函数之后：')\n",
    "print(np.broadcast_to(a,(4,4)))"
   ]
  },
  {
   "cell_type": "markdown",
   "id": "9ca683eb",
   "metadata": {},
   "source": [
    "numpy.expand_dims\n",
    "\n",
    "numpy.expand_dims 函数通过在指定位置插入新的轴来扩展数组形状，函数格式如下:\n",
    "\n",
    " numpy.expand_dims(arr, axis)\n",
    " \n",
    "参数说明：\n",
    "\n",
    "arr：输入数组\n",
    "axis：新轴插入的位置"
   ]
  },
  {
   "cell_type": "code",
   "execution_count": 49,
   "id": "0e476eb7",
   "metadata": {},
   "outputs": [
    {
     "name": "stdout",
     "output_type": "stream",
     "text": [
      "数组 x：\n",
      "[[1 2]\n",
      " [3 4]]\n",
      "\n",
      "\n",
      "在位置 0 插入轴之后的数组 y：\n",
      "[[[1 2]\n",
      "  [3 4]]]\n",
      "\n",
      "\n",
      "x.ndim 和 y.ndim：\n",
      "2 3\n",
      "\n",
      "\n",
      "x.shape 和 y.shape：\n",
      "(2, 2) (1, 2, 2)\n",
      "\n",
      "----------------\n",
      "在位置 1 插入轴之后的数组 y：\n",
      "[[[1 2]]\n",
      "\n",
      " [[3 4]]]\n",
      "\n",
      "\n",
      "x.ndim 和 y.ndim：\n",
      "2 3\n",
      "\n",
      "\n",
      "x.shape 和 y.shape：\n",
      "(2, 2) (2, 1, 2)\n",
      "\n",
      "----------------\n",
      "在位置 2 插入轴之后的数组 y：\n",
      "[[[1]\n",
      "  [2]]\n",
      "\n",
      " [[3]\n",
      "  [4]]]\n",
      "\n",
      "\n",
      "x.ndim 和 y.ndim：\n",
      "2 3\n",
      "\n",
      "\n",
      "x.shape 和 y.shape：\n",
      "(2, 2) (2, 2, 1)\n"
     ]
    }
   ],
   "source": [
    "x=np.array([[1,2],[3,4]])\n",
    "print ('数组 x：')\n",
    "print (x)\n",
    "print ('\\n')\n",
    "\n",
    "\n",
    "# 在位置 0 插入轴\n",
    "y=np.expand_dims(x,axis=0)\n",
    "print ('在位置 0 插入轴之后的数组 y：')\n",
    "print (y)\n",
    "print ('\\n')\n",
    "\n",
    "print(\"x.ndim 和 y.ndim：\")\n",
    "print(x.ndim,y.ndim)\n",
    "print(\"\\n\")\n",
    "\n",
    "\n",
    "print ('x.shape 和 y.shape：')\n",
    "print (x.shape, y.shape)\n",
    "\n",
    "\n",
    "\n",
    "print(\"\\n----------------\")\n",
    "# 在位置 1 插入轴\n",
    "y=np.expand_dims(x,axis=1)\n",
    "\n",
    "print ('在位置 1 插入轴之后的数组 y：')\n",
    "print (y)\n",
    "print ('\\n')\n",
    "\n",
    "print(\"x.ndim 和 y.ndim：\")\n",
    "print(x.ndim,y.ndim)\n",
    "print(\"\\n\")\n",
    "\n",
    "print ('x.shape 和 y.shape：')\n",
    "print (x.shape, y.shape)\n",
    "\n",
    "\n",
    "\n",
    "print(\"\\n----------------\")\n",
    "# 在位置 2 插入轴\n",
    "y=np.expand_dims(x,axis=2)\n",
    "\n",
    "print ('在位置 2 插入轴之后的数组 y：')\n",
    "print (y)\n",
    "print ('\\n')\n",
    "\n",
    "print(\"x.ndim 和 y.ndim：\")\n",
    "print(x.ndim,y.ndim)\n",
    "print(\"\\n\")\n",
    "\n",
    "print ('x.shape 和 y.shape：')\n",
    "print (x.shape, y.shape)\n"
   ]
  },
  {
   "cell_type": "markdown",
   "id": "ea4dcded",
   "metadata": {},
   "source": [
    "# 连接数组"
   ]
  },
  {
   "attachments": {
    "image.png": {
     "image/png": "[encoded data removed]"
    }
   },
   "cell_type": "markdown",
   "id": "becfb543",
   "metadata": {},
   "source": [
    "![image.png](attachment:image.png)\n",
    "numpy.concatenate\n",
    "numpy.concatenate 函数用于沿指定轴连接相同形状的两个或多个数组，格式如下：\n",
    "\n",
    "numpy.concatenate((a1, a2, ...), axis)\n",
    "参数说明：\n",
    "\n",
    "a1, a2, ...：相同类型的数组\n",
    "axis：沿着它连接数组的轴，默认为 0"
   ]
  },
  {
   "cell_type": "code",
   "execution_count": 50,
   "id": "41663097",
   "metadata": {},
   "outputs": [
    {
     "name": "stdout",
     "output_type": "stream",
     "text": [
      "第一个数组：\n",
      "[[1 2]\n",
      " [3 4]]\n",
      "\n",
      "\n",
      "第二个数组：\n",
      "[[5 6]\n",
      " [7 8]]\n",
      "\n",
      "\n",
      "沿轴 0 连接两个数组：\n",
      "[[1 2]\n",
      " [3 4]\n",
      " [5 6]\n",
      " [7 8]]\n",
      "\n",
      "\n",
      "沿轴 1 连接两个数组：\n",
      "[[1 2 5 6]\n",
      " [3 4 7 8]]\n"
     ]
    }
   ],
   "source": [
    "a=np.array([[1,2],[3,4]])\n",
    "print ('第一个数组：')\n",
    "print (a)\n",
    "print ('\\n')\n",
    "\n",
    "b = np.array([[5,6],[7,8]])\n",
    "print ('第二个数组：')\n",
    "print (b)\n",
    "print ('\\n')\n",
    "# 两个数组的维度相同\n",
    "\n",
    "print ('沿轴 0 连接两个数组：')\n",
    "print (np.concatenate((a,b)))\n",
    "print ('\\n')\n",
    " \n",
    "print ('沿轴 1 连接两个数组：')\n",
    "print (np.concatenate((a,b),axis = 1))"
   ]
  },
  {
   "cell_type": "markdown",
   "id": "8c7ba360",
   "metadata": {},
   "source": [
    "numpy.stack\n",
    "numpy.stack 函数用于沿新轴连接数组序列，格式如下：\n",
    "\n",
    "numpy.stack(arrays, axis)\n",
    "参数说明：\n",
    "\n",
    "arrays相同形状的数组序列\n",
    "axis：返回数组中的轴，输入数组沿着它来堆叠"
   ]
  },
  {
   "cell_type": "markdown",
   "id": "7ef6401b",
   "metadata": {},
   "source": [
    "numpy.stack 函数用于沿新轴连接数组序列，格式如下：\n",
    "\n",
    "numpy.stack(arrays, axis)\n",
    "参数说明：\n",
    "\n",
    "arrays相同形状的数组序列\n",
    "axis：返回数组中的轴，输入数组沿着它来堆叠"
   ]
  },
  {
   "cell_type": "code",
   "execution_count": 52,
   "id": "29a312ce",
   "metadata": {},
   "outputs": [
    {
     "name": "stdout",
     "output_type": "stream",
     "text": [
      "第一个数组：\n",
      "[[1 2]\n",
      " [3 4]]\n",
      "\n",
      "\n",
      "第二个数组：\n",
      "[[5 6]\n",
      " [7 8]]\n",
      "\n",
      "\n",
      "沿轴 0 连接两个数组：\n",
      "[[[1 2]\n",
      "  [3 4]]\n",
      "\n",
      " [[5 6]\n",
      "  [7 8]]]\n",
      "\n",
      "\n",
      "沿轴 1 连接两个数组：\n",
      "[[[1 2]\n",
      "  [5 6]]\n",
      "\n",
      " [[3 4]\n",
      "  [7 8]]]\n"
     ]
    }
   ],
   "source": [
    "a=np.array([[1,2],[3,4]])\n",
    "print ('第一个数组：')\n",
    "print (a)\n",
    "print ('\\n')\n",
    "\n",
    "b = np.array([[5,6],[7,8]])\n",
    "print ('第二个数组：')\n",
    "print (b)\n",
    "print ('\\n')\n",
    "# 两个数组的维度相同\n",
    "\n",
    "print ('沿轴 0 连接两个数组：')\n",
    "print (np.stack((a,b)))\n",
    "print ('\\n')\n",
    " \n",
    "print ('沿轴 1 连接两个数组：')\n",
    "print (np.stack((a,b),1))"
   ]
  },
  {
   "cell_type": "markdown",
   "id": "49d056cf",
   "metadata": {},
   "source": [
    "numpy.hstack\n",
    "numpy.hstack 是 numpy.stack 函数的变体，它通过水平堆叠来生成数组。"
   ]
  },
  {
   "cell_type": "code",
   "execution_count": 53,
   "id": "8e0df73b",
   "metadata": {},
   "outputs": [
    {
     "name": "stdout",
     "output_type": "stream",
     "text": [
      "第一个数组：\n",
      "[[1 2]\n",
      " [3 4]]\n",
      "\n",
      "\n",
      "第二个数组：\n",
      "[[5 6]\n",
      " [7 8]]\n",
      "\n",
      "\n",
      "水平堆叠：\n",
      "[[1 2 5 6]\n",
      " [3 4 7 8]]\n"
     ]
    }
   ],
   "source": [
    "a=np.array([[1,2],[3,4]])\n",
    "print ('第一个数组：')\n",
    "print (a)\n",
    "print ('\\n')\n",
    "\n",
    "b = np.array([[5,6],[7,8]])\n",
    "print ('第二个数组：')\n",
    "print (b)\n",
    "print ('\\n')\n",
    "# 两个数组的维度相同\n",
    "\n",
    "print ('水平堆叠：')\n",
    "print(np.hstack((a,b)))"
   ]
  },
  {
   "cell_type": "markdown",
   "id": "bce17e33",
   "metadata": {},
   "source": [
    "numpy.vstack\n",
    "numpy.vstack 是 numpy.stack 函数的变体，它通过垂直堆叠来生成数组。"
   ]
  },
  {
   "cell_type": "code",
   "execution_count": 56,
   "id": "448a1966",
   "metadata": {},
   "outputs": [
    {
     "name": "stdout",
     "output_type": "stream",
     "text": [
      "第一个数组：\n",
      "[[1 2]\n",
      " [3 4]]\n",
      "\n",
      "\n",
      "第二个数组：\n",
      "[[5 6]\n",
      " [7 8]]\n",
      "\n",
      "\n",
      "竖直堆叠：\n",
      "[[1 2]\n",
      " [3 4]\n",
      " [5 6]\n",
      " [7 8]]\n"
     ]
    }
   ],
   "source": [
    "a=np.array([[1,2],[3,4]])\n",
    "print ('第一个数组：')\n",
    "print (a)\n",
    "print ('\\n')\n",
    "\n",
    "b = np.array([[5,6],[7,8]])\n",
    "print ('第二个数组：')\n",
    "print (b)\n",
    "print ('\\n')\n",
    "# 两个数组的维度相同\n",
    "\n",
    "print ('竖直堆叠：')\n",
    "print(np.vstack((a,b)))"
   ]
  },
  {
   "cell_type": "markdown",
   "id": "ddfba5f5",
   "metadata": {},
   "source": [
    "# 分割数组"
   ]
  },
  {
   "attachments": {
    "image.png": {
     "image/png": "[encoded data removed]"
    }
   },
   "cell_type": "markdown",
   "id": "0e32b8aa",
   "metadata": {},
   "source": [
    "![image.png](attachment:image.png)\n",
    "\n",
    "numpy.split\n",
    "numpy.split 函数沿特定的轴将数组分割为子数组，格式如下：\n",
    "\n",
    "numpy.split(ary, indices_or_sections, axis)\n",
    "参数说明：\n",
    "\n",
    "ary：被分割的数组\n",
    "indices_or_sections：如果是一个整数，就用该数平均切分，如果是一个数组，为沿轴切分的位置（左开右闭）\n",
    "axis：设置沿着哪个方向进行切分，默认为 0，横向切分，即水平方向。为 1 时，纵向切分，即竖直方向。\n",
    "\n",
    "\n",
    "是的，\"水平方向\" 和 \"竖直方向\" 的描述可能有些令人困惑。具体来说，NumPy 中的第一个轴（axis=0）通常被称为“行”，而第二个轴（axis=1）通常被称为“列”。\n",
    "\n",
    "因此，从“行”的方向进行切割被称为“竖直方向”（相对于二维坐标系的纵轴），而从“列”的方向进行切割被称为“水平方向”（相对于二维坐标系的横轴）。\n",
    "\n",
    "这种描述方式可能与我们在数学或物理学中学到的描述不太一致，但它已经成为了计算机领域中的通用约定。"
   ]
  },
  {
   "cell_type": "code",
   "execution_count": 57,
   "id": "93d45830",
   "metadata": {},
   "outputs": [
    {
     "name": "stdout",
     "output_type": "stream",
     "text": [
      "第一个数组：\n",
      "[0 1 2 3 4 5 6 7 8]\n",
      "\n",
      "\n",
      "将数组分为三个大小相等的子数组：\n",
      "[array([0, 1, 2]), array([3, 4, 5]), array([6, 7, 8])]\n",
      "\n",
      "\n",
      "将数组在一维数组中表明的位置分割：\n",
      "[array([0, 1, 2, 3]), array([4, 5, 6]), array([7, 8])]\n",
      "\n",
      "\n"
     ]
    }
   ],
   "source": [
    "a = np.arange(9)\n",
    " \n",
    "print ('第一个数组：')\n",
    "print (a)\n",
    "print ('\\n')\n",
    " \n",
    "print ('将数组分为三个大小相等的子数组：')\n",
    "print(np.split(a,3))\n",
    "print(\"\\n\")\n",
    "\n",
    "print ('将数组在一维数组中表明的位置分割：')\n",
    "print(np.split(a,[4,7]))\n",
    "print(\"\\n\")"
   ]
  },
  {
   "cell_type": "markdown",
   "id": "e0067383",
   "metadata": {},
   "source": [
    "axis 为 0 时在水平方向分割，axis 为 1 时在垂直方向分割："
   ]
  },
  {
   "cell_type": "code",
   "execution_count": 64,
   "id": "cbf7f56b",
   "metadata": {},
   "outputs": [
    {
     "name": "stdout",
     "output_type": "stream",
     "text": [
      "第一个数组：\n",
      "[[ 0  1  2  3]\n",
      " [ 4  5  6  7]\n",
      " [ 8  9 10 11]\n",
      " [12 13 14 15]]\n",
      "\n",
      "\n",
      "默认分割（0轴）：\n",
      "[array([[0, 1, 2, 3],\n",
      "       [4, 5, 6, 7]]), array([[ 8,  9, 10, 11],\n",
      "       [12, 13, 14, 15]])]\n",
      "\n",
      "\n",
      "沿水平方向切割：\n",
      "[array([[ 0,  1],\n",
      "       [ 4,  5],\n",
      "       [ 8,  9],\n",
      "       [12, 13]]), array([[ 2,  3],\n",
      "       [ 6,  7],\n",
      "       [10, 11],\n",
      "       [14, 15]])]\n",
      "\n",
      "\n",
      "沿水平方向分割：\n",
      "[array([[ 0,  1],\n",
      "       [ 4,  5],\n",
      "       [ 8,  9],\n",
      "       [12, 13]]), array([[ 2,  3],\n",
      "       [ 6,  7],\n",
      "       [10, 11],\n",
      "       [14, 15]])]\n"
     ]
    }
   ],
   "source": [
    "a = np.arange(16).reshape(4, 4)\n",
    "print('第一个数组：')\n",
    "print(a)\n",
    "print('\\n')\n",
    "print('默认分割（0轴）：')\n",
    "print(np.split(a,2))\n",
    "print('\\n')\n",
    "\n",
    "print('沿水平方向切割：')\n",
    "c = np.split(a,2,1)\n",
    "print(c)\n",
    "print('\\n')\n",
    "\n",
    "print('沿水平方向分割：')\n",
    "d= np.hsplit(a,2)\n",
    "print(d)"
   ]
  },
  {
   "cell_type": "markdown",
   "id": "290c8b8c",
   "metadata": {},
   "source": [
    "numpy.hsplit\n",
    "numpy.hsplit 函数用于水平分割数组，通过指定要返回的相同形状的数组数量来拆分原数组。"
   ]
  },
  {
   "cell_type": "code",
   "execution_count": 63,
   "id": "065c7cb4",
   "metadata": {},
   "outputs": [
    {
     "name": "stdout",
     "output_type": "stream",
     "text": [
      "原array：\n",
      " [[7. 3. 6. 9. 6. 5.]\n",
      " [4. 1. 1. 1. 8. 6.]]\n",
      "拆分后：\n",
      "[array([[7., 3.],\n",
      "       [4., 1.]]), array([[6., 9.],\n",
      "       [1., 1.]]), array([[6., 5.],\n",
      "       [8., 6.]])]\n"
     ]
    }
   ],
   "source": [
    "harr=np.floor(10*np.random.random((2,6)))\n",
    "print ('原array：\\n',harr)\n",
    "\n",
    "print ('拆分后：')\n",
    "print(np.hsplit(harr, 3))"
   ]
  },
  {
   "attachments": {
    "image.png": {
     "image/png": "[encoded data removed]"
    }
   },
   "cell_type": "markdown",
   "id": "28f929a6",
   "metadata": {},
   "source": [
    "数组元素的添加与删除\n",
    "![image.png](attachment:image.png)"
   ]
  },
  {
   "cell_type": "markdown",
   "id": "ccb506ae",
   "metadata": {},
   "source": [
    "numpy.resize\n",
    "numpy.resize 函数返回指定大小的新数组。\n",
    "\n",
    "如果新数组大小大于原始大小，则包含原始数组中的元素的副本。\n",
    "\n",
    "numpy.resize(arr, shape)\n",
    "参数说明：\n",
    "\n",
    "arr：要修改大小的数组\n",
    "shape：返回数组的新形状"
   ]
  },
  {
   "cell_type": "code",
   "execution_count": 65,
   "id": "85654cf7",
   "metadata": {},
   "outputs": [
    {
     "name": "stdout",
     "output_type": "stream",
     "text": [
      "第一个数组：\n",
      "[[1 2 3]\n",
      " [4 5 6]]\n",
      "\n",
      "\n",
      "第一个数组的形状：\n",
      "(2, 3)\n",
      "\n",
      "\n",
      "第二个数组：\n",
      "[[1 2]\n",
      " [3 4]\n",
      " [5 6]]\n",
      "\n",
      "\n",
      "第二个数组的形状：\n",
      "(3, 2)\n",
      "\n",
      "\n",
      "修改第二个数组的大小：\n",
      "[[1 2 3]\n",
      " [4 5 6]\n",
      " [1 2 3]]\n"
     ]
    }
   ],
   "source": [
    "a = np.array([[1,2,3],[4,5,6]])\n",
    "print ('第一个数组：')\n",
    "print (a)\n",
    "print ('第一个数组的形状：')\n",
    "print (a.shape)\n",
    "print ('\\n')\n",
    "\n",
    "\n",
    "b = np.resize(a, (3,2)) \n",
    "print ('第二个数组：')\n",
    "print (b)\n",
    "print ('第二个数组的形状：')\n",
    "print (b.shape)\n",
    "print ('\\n')"
   ]
  },
  {
   "cell_type": "markdown",
   "id": "814b0362",
   "metadata": {},
   "source": [
    "numpy.append\n",
    "numpy.append 函数在数组的末尾添加值。 追加操作会分配整个数组，并把原来的数组复制到新数组中。 此外，输入数组的维度必须匹配否则将生成ValueError。\n",
    "\n",
    "append 函数返回的始终是一个一维数组。\n",
    "\n",
    "numpy.append(arr, values, axis=None)\n",
    "参数说明：\n",
    "\n",
    "arr：输入数组\n",
    "values：要向arr添加的值，需要和arr形状相同（除了要添加的轴）\n",
    "axis：默认为 None。当axis无定义时，是横向加成，返回总是为一维数组！当axis有定义的时候，分别为0和1的时候。当axis有定义的时候，分别为0和1的时候（列数要相同）。当axis为1时，数组是加在右边（行数要相同）。"
   ]
  },
  {
   "cell_type": "code",
   "execution_count": null,
   "id": "2d0145a7",
   "metadata": {},
   "outputs": [],
   "source": [
    "a = np.array([[1,2,3],[4,5,6]])\n",
    " \n",
    "print ('第一个数组：')\n",
    "print (a)\n",
    "print ('\\n')\n",
    " \n",
    "print ('向数组添加元素：')\n",
    "print (np.append(a, [7,8,9]))\n",
    "print ('\\n')\n",
    " \n",
    "print ('沿轴 0 添加元素：')\n",
    "print (np.append(a, [[7,8,9]],axis = 0))\n",
    "print ('\\n')\n",
    " \n",
    "print ('沿轴 1 添加元素：')\n",
    "print (np.append(a, [[5,5,5],[7,8,9]],axis = 1))"
   ]
  },
  {
   "cell_type": "markdown",
   "id": "d8015e74",
   "metadata": {},
   "source": [
    "numpy.insert\n",
    "numpy.insert 函数在给定索引之前，沿给定轴在输入数组中插入值。\n",
    "\n",
    "如果值的类型转换为要插入，则它与输入数组不同。 插入没有原地的，函数会返回一个新数组。 此外，如果未提供轴，则输入数组会被展开。\n",
    "\n",
    "numpy.insert(arr, obj, values, axis)\n",
    "参数说明：\n",
    "\n",
    "arr：输入数组\n",
    "obj：在其之前插入值的索引\n",
    "values：要插入的值\n",
    "axis：沿着它插入的轴，如果未提供，则输入数组会被展开"
   ]
  },
  {
   "cell_type": "markdown",
   "id": "4d455e9e",
   "metadata": {},
   "source": [
    "numpy.insert\n",
    "numpy.insert 函数在给定索引之前，沿给定轴在输入数组中插入值。\n",
    "\n",
    "如果值的类型转换为要插入，则它与输入数组不同。 插入没有原地的，函数会返回一个新数组。 此外，如果未提供轴，则输入数组会被展开。\n",
    "\n",
    "numpy.insert(arr, obj, values, axis)\n",
    "参数说明：\n",
    "\n",
    "arr：输入数组\n",
    "obj：在其之前插入值的索引\n",
    "values：要插入的值\n",
    "axis：沿着它插入的轴，如果未提供，则输入数组会被展开"
   ]
  },
  {
   "cell_type": "code",
   "execution_count": 66,
   "id": "1b5d92a7",
   "metadata": {},
   "outputs": [
    {
     "name": "stdout",
     "output_type": "stream",
     "text": [
      "第一个数组：\n",
      "[[1 2]\n",
      " [3 4]\n",
      " [5 6]]\n",
      "\n",
      "\n",
      "未传递 Axis 参数。 在删除之前输入数组会被展开。\n",
      "[ 1  2  3 11 12  4  5  6]\n",
      "\n",
      "\n",
      "传递了 Axis 参数。 会广播值数组来配输入数组。\n",
      "沿轴 0 广播：\n",
      "[[ 1  2]\n",
      " [11 11]\n",
      " [ 3  4]\n",
      " [ 5  6]]\n",
      "\n",
      "\n",
      "沿轴 1 广播：\n",
      "[[ 1 11  2]\n",
      " [ 3 11  4]\n",
      " [ 5 11  6]]\n"
     ]
    }
   ],
   "source": [
    "a = np.array([[1,2],[3,4],[5,6]])\n",
    "print ('第一个数组：')\n",
    "print (a)\n",
    "print ('\\n')\n",
    " \n",
    "print ('未传递 Axis 参数。 在删除之前输入数组会被展开。')\n",
    "print (np.insert(a,3,[11,12]))\n",
    "print ('\\n')\n",
    "\n",
    "print ('传递了 Axis 参数。 会广播值数组来配输入数组。') \n",
    "print ('沿轴 0 广播：')\n",
    "print (np.insert(a,1,[11],axis = 0))\n",
    "print ('\\n')\n",
    " \n",
    "print ('沿轴 1 广播：')\n",
    "print (np.insert(a,1,11,axis = 1))"
   ]
  },
  {
   "cell_type": "markdown",
   "id": "81ffad6d",
   "metadata": {},
   "source": [
    "numpy.delete\n",
    "numpy.delete 函数返回从输入数组中删除指定子数组的新数组。 与 insert() 函数的情况一样，如果未提供轴参数，则输入数组将展开。\n",
    "\n",
    "Numpy.delete(arr, obj, axis)\n",
    "参数说明：\n",
    "\n",
    "arr：输入数组\n",
    "obj：可以被切片，整数或者整数数组，表明要从输入数组删除的子数组\n",
    "axis：沿着它删除给定子数组的轴，如果未提供，则输入数组会被展开"
   ]
  },
  {
   "cell_type": "code",
   "execution_count": null,
   "id": "04bde8c0",
   "metadata": {},
   "outputs": [],
   "source": [
    "a = np.arange(12).reshape(3,4)\n",
    "print ('第一个数组：')\n",
    "print (a)\n",
    "print ('\\n')\n",
    " \n",
    "print ('未传递 Axis 参数。 在插入之前输入数组会被展开。')\n",
    "print (np.delete(a,5))\n",
    "print ('\\n')\n",
    " \n",
    "print ('删除第二列：')\n",
    "print (np.delete(a,1,axis = 1))\n",
    "print ('\\n')\n",
    " \n",
    "print ('包含从数组中删除的替代值的切片：')\n",
    "a = np.array([1,2,3,4,5,6,7,8,9,10])\n",
    "print (np.delete(a, np.s_[::2]))"
   ]
  },
  {
   "cell_type": "markdown",
   "id": "7747ecf5",
   "metadata": {},
   "source": [
    "numpy.unique\n",
    "numpy.unique 函数用于去除数组中的重复元素。\n",
    "\n",
    "numpy.unique(arr, return_index, return_inverse, return_counts)\n",
    "arr：输入数组，如果不是一维数组则会展开\n",
    "return_index：如果为true，返回新列表元素在旧列表中的位置（下标），并以列表形式储\n",
    "return_inverse：如果为true，返回旧列表元素在新列表中的位置（下标），并以列表形式储\n",
    "return_counts：如果为true，返回去重数组中的元素在原数组中的出现次数"
   ]
  },
  {
   "cell_type": "code",
   "execution_count": null,
   "id": "dc880587",
   "metadata": {},
   "outputs": [],
   "source": [
    "a = np.array([5,2,6,2,7,5,6,8,2,9])\n",
    "print ('第一个数组：')\n",
    "print (a)\n",
    "print ('\\n')\n",
    " \n",
    "print ('第一个数组的去重值：')\n",
    "u = np.unique(a)\n",
    "print (u)\n",
    "print ('\\n')\n",
    " \n",
    "print ('去重数组的索引数组：')\n",
    "u,indices = np.unique(a, return_index = True)\n",
    "print (indices)\n",
    "print ('\\n')\n",
    " \n",
    "print ('我们可以看到每个和原数组下标对应的数值：')\n",
    "print (a)\n",
    "print ('\\n')\n",
    " \n",
    "print ('去重数组的下标：')\n",
    "u,indices = np.unique(a,return_inverse = True)\n",
    "print (u)\n",
    "print ('\\n')\n",
    " \n",
    "print ('下标为：')\n",
    "print (indices)\n",
    "print ('\\n')\n",
    " \n",
    "print ('使用下标重构原数组：')\n",
    "print (u[indices])\n",
    "print ('\\n')\n",
    " \n",
    "print ('返回去重元素的重复数量：')\n",
    "u,indices = np.unique(a,return_counts = True)\n",
    "print (u)\n",
    "print (indices)"
   ]
  }
 ],
 "metadata": {
  "kernelspec": {
   "display_name": "Python 3 (ipykernel)",
   "language": "python",
   "name": "python3"
  },
  "language_info": {
   "codemirror_mode": {
    "name": "ipython",
    "version": 3
   },
   "file_extension": ".py",
   "mimetype": "text/x-python",
   "name": "python",
   "nbconvert_exporter": "python",
   "pygments_lexer": "ipython3",
   "version": "3.9.13"
  }
 },
 "nbformat": 4,
 "nbformat_minor": 5
}
