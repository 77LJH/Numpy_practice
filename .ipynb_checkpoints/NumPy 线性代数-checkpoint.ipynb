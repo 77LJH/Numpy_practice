{
 "cells": [
  {
   "cell_type": "markdown",
   "id": "87a0b5be",
   "metadata": {},
   "source": [
    "# NumPy 线性代数"
   ]
  },
  {
   "attachments": {
    "image.png": {
     "image/png": "[encoded data removed]"
    }
   },
   "cell_type": "markdown",
   "id": "2fcc17e6",
   "metadata": {},
   "source": [
    "NumPy 提供了线性代数函数库 linalg，该库包含了线性代数所需的所有功能，可以看看下面的说明：\n",
    "\n",
    "![image.png](attachment:image.png)\n",
    "\n",
    "numpy.dot()\n",
    "numpy.dot() 对于两个一维的数组，计算的是这两个数组对应下标元素的乘积和(数学上称之为向量点积)；对于二维数组，计算的是两个数组的矩阵乘积；对于多维数组，它的通用计算公式如下，即结果数组中的每个元素都是：数组a的最后一维上的所有元素与数组b的倒数第二位上的所有元素的乘积和： dot(a, b)[i,j,k,m] = sum(a[i,j,:] * b[k,:,m])。\n",
    "\n",
    "numpy.dot(a, b, out=None) \n",
    "参数说明：\n",
    "\n",
    "a : ndarray 数组\n",
    "b : ndarray 数组\n",
    "out : ndarray, 可选，用来保存dot()的计算结果\n",
    "\n",
    "如果a和b是一维数组，那么np.dot(a, b)等价于它们的点积（内积）。"
   ]
  },
  {
   "cell_type": "code",
   "execution_count": 1,
   "id": "1904f73c",
   "metadata": {},
   "outputs": [
    {
     "name": "stdout",
     "output_type": "stream",
     "text": [
      "[[37 40]\n",
      " [85 92]]\n"
     ]
    }
   ],
   "source": [
    "import numpy.matlib\n",
    "import numpy as np\n",
    " \n",
    "a = np.array([[1,2],[3,4]])\n",
    "b = np.array([[11,12],[13,14]])\n",
    "print(np.dot(a,b))"
   ]
  },
  {
   "cell_type": "markdown",
   "id": "9dbc04d1",
   "metadata": {},
   "source": [
    "numpy.vdot()\n",
    "numpy.vdot() 函数是两个向量的点积。 如果第一个参数是复数，那么它的共轭复数会用于计算。 如果参数是多维数组，它会被展开。\n",
    "\n",
    "np.vdot(a, b)计算的是两个数组a和b的向量内积（点积），这个函数将a和b展平为一维数组，然后对它们进行点积计算。np.vdot()可以用于计算复杂数的内积，因为它会先对a和b进行共轭操作（即取a和b的共轭复数），然后再进行点积计算。np.vdot()返回的是一个标量。"
   ]
  },
  {
   "cell_type": "code",
   "execution_count": 2,
   "id": "4569484e",
   "metadata": {},
   "outputs": [
    {
     "name": "stdout",
     "output_type": "stream",
     "text": [
      "130\n"
     ]
    }
   ],
   "source": [
    "a = np.array([[1,2],[3,4]]) \n",
    "b = np.array([[11,12],[13,14]]) \n",
    " \n",
    "# vdot 将数组展开计算内积\n",
    "print (np.vdot(a,b))"
   ]
  },
  {
   "cell_type": "markdown",
   "id": "17e44540",
   "metadata": {},
   "source": [
    "numpy.inner()\n",
    "numpy.inner() 函数返回一维数组的向量内积。对于更高的维度，它返回最后一个轴上的和的乘积。"
   ]
  },
  {
   "cell_type": "code",
   "execution_count": 3,
   "id": "f333f81a",
   "metadata": {},
   "outputs": [
    {
     "name": "stdout",
     "output_type": "stream",
     "text": [
      "2\n"
     ]
    }
   ],
   "source": [
    "print (np.inner(np.array([1,2,3]),np.array([0,1,0])))\n",
    "# 等价于 1*0+2*1+3*0"
   ]
  },
  {
   "cell_type": "code",
   "execution_count": 5,
   "id": "de7f39a2",
   "metadata": {},
   "outputs": [
    {
     "name": "stdout",
     "output_type": "stream",
     "text": [
      "数组 a：\n",
      "[[1 2]\n",
      " [3 4]]\n",
      "数组 b：\n",
      "[[11 12]\n",
      " [13 14]]\n",
      "内积：\n",
      "[[35 41]\n",
      " [81 95]]\n",
      "矩阵乘积：\n",
      "[[35 41]\n",
      " [81 95]]\n"
     ]
    }
   ],
   "source": [
    "a = np.array([[1,2], [3,4]]) \n",
    " \n",
    "print ('数组 a：')\n",
    "print (a)\n",
    "b = np.array([[11, 12], [13, 14]]) \n",
    " \n",
    "print ('数组 b：')\n",
    "print (b)\n",
    " \n",
    "print ('内积：')\n",
    "print (np.inner(a,b))\n",
    "print ('矩阵乘积：')\n",
    "print (np.inner(a,b))"
   ]
  },
  {
   "cell_type": "markdown",
   "id": "fc84999f",
   "metadata": {},
   "source": [
    "numpy.matmul\n",
    "numpy.matmul 函数返回两个数组的矩阵乘积。 虽然它返回二维数组的正常乘积，但如果任一参数的维数大于2，则将其视为存在于最后两个索引的矩阵的栈，并进行相应广播。\n",
    "\n",
    "另一方面，如果任一参数是一维数组，则通过在其维度上附加 1 来将其提升为矩阵，并在乘法之后被去除。\n",
    "\n",
    "对于二维数组，它就是矩阵乘法："
   ]
  },
  {
   "cell_type": "code",
   "execution_count": 6,
   "id": "173eb785",
   "metadata": {},
   "outputs": [
    {
     "name": "stdout",
     "output_type": "stream",
     "text": [
      "[[4 1]\n",
      " [2 2]]\n"
     ]
    }
   ],
   "source": [
    "a = [[1,0],[0,1]] \n",
    "b = [[4,1],[2,2]] \n",
    "print (np.matmul(a,b))"
   ]
  },
  {
   "cell_type": "code",
   "execution_count": 7,
   "id": "07782ea7",
   "metadata": {},
   "outputs": [
    {
     "name": "stdout",
     "output_type": "stream",
     "text": [
      "[1 2]\n",
      "[1 2]\n"
     ]
    }
   ],
   "source": [
    "a = [[1,0],[0,1]] \n",
    "b = [1,2] \n",
    "print (np.matmul(a,b))\n",
    "print (np.matmul(b,a))"
   ]
  },
  {
   "cell_type": "code",
   "execution_count": 8,
   "id": "b8839c89",
   "metadata": {},
   "outputs": [
    {
     "name": "stdout",
     "output_type": "stream",
     "text": [
      "[[[ 2  3]\n",
      "  [ 6 11]]\n",
      "\n",
      " [[10 19]\n",
      "  [14 27]]]\n"
     ]
    }
   ],
   "source": [
    "a = np.arange(8).reshape(2,2,2) \n",
    "b = np.arange(4).reshape(2,2) \n",
    "print (np.matmul(a,b))"
   ]
  },
  {
   "cell_type": "markdown",
   "id": "e097dc73",
   "metadata": {},
   "source": [
    "numpy.linalg.det()\n",
    "numpy.linalg.det() 函数计算输入矩阵的行列式。\n",
    "\n",
    "行列式在线性代数中是非常有用的值。 它从方阵的对角元素计算。 对于 2×2 矩阵，它是左上和右下元素的乘积与其他两个的乘积的差。\n",
    "\n",
    "换句话说，对于矩阵[[a，b]，[c，d]]，行列式计算为 ad-bc。 较大的方阵被认为是 2×2 矩阵的组合。"
   ]
  },
  {
   "cell_type": "code",
   "execution_count": 9,
   "id": "16a89896",
   "metadata": {},
   "outputs": [
    {
     "name": "stdout",
     "output_type": "stream",
     "text": [
      "-2.0000000000000004\n"
     ]
    }
   ],
   "source": [
    "a = np.array([[1,2], [3,4]]) \n",
    " \n",
    "print (np.linalg.det(a))"
   ]
  },
  {
   "cell_type": "code",
   "execution_count": 10,
   "id": "0fa00886",
   "metadata": {},
   "outputs": [
    {
     "name": "stdout",
     "output_type": "stream",
     "text": [
      "[[ 6  1  1]\n",
      " [ 4 -2  5]\n",
      " [ 2  8  7]]\n",
      "-306.0\n",
      "-306\n"
     ]
    }
   ],
   "source": [
    "b = np.array([[6,1,1], [4, -2, 5], [2,8,7]]) \n",
    "print (b)\n",
    "print (np.linalg.det(b))\n",
    "print (6*(-2*7 - 5*8) - 1*(4*7 - 5*2) + 1*(4*8 - -2*2))"
   ]
  },
  {
   "cell_type": "markdown",
   "id": "9154a994",
   "metadata": {},
   "source": [
    "numpy.linalg.solve()\n",
    "numpy.linalg.solve() 函数给出了矩阵形式的线性方程的解。\n",
    "\n",
    "考虑以下线性方程：\n",
    "x + y + z = 6\n",
    "\n",
    "2y + 5z = -4\n",
    "\n",
    "2x + 5y - z = 27\n",
    "\n",
    "X = A^(-1)B\n",
    "\n",
    "numpy.linalg.inv()\n",
    "numpy.linalg.inv() 函数计算矩阵的乘法逆矩阵。\n",
    "\n",
    "逆矩阵（inverse matrix）：设A是数域上的一个n阶矩阵，若在相同数域上存在另一个n阶矩阵B，使得： AB=BA=E ，则我们称B是A的逆矩阵，而A则被称为可逆矩阵。注：E为单位矩阵。"
   ]
  },
  {
   "cell_type": "code",
   "execution_count": 11,
   "id": "0d01a217",
   "metadata": {},
   "outputs": [
    {
     "name": "stdout",
     "output_type": "stream",
     "text": [
      "[[1 2]\n",
      " [3 4]]\n",
      "[[-2.   1. ]\n",
      " [ 1.5 -0.5]]\n",
      "[[1.00000000e+00 1.11022302e-16]\n",
      " [0.00000000e+00 1.00000000e+00]]\n"
     ]
    }
   ],
   "source": [
    "x = np.array([[1,2],[3,4]]) \n",
    "y = np.linalg.inv(x) \n",
    "print (x)\n",
    "print (y)\n",
    "print (np.dot(x,y))"
   ]
  },
  {
   "cell_type": "code",
   "execution_count": 13,
   "id": "6ad846e6",
   "metadata": {},
   "outputs": [
    {
     "name": "stdout",
     "output_type": "stream",
     "text": [
      "数组 a：\n",
      "[[ 1  1  1]\n",
      " [ 0  2  5]\n",
      " [ 2  5 -1]]\n",
      "a 的逆：\n",
      "[[ 1.28571429 -0.28571429 -0.14285714]\n",
      " [-0.47619048  0.14285714  0.23809524]\n",
      " [ 0.19047619  0.14285714 -0.0952381 ]]\n",
      "矩阵 b：\n",
      "[[ 6]\n",
      " [-4]\n",
      " [27]]\n",
      "计算：A^(-1)B：\n",
      "[[ 5.]\n",
      " [ 3.]\n",
      " [-2.]]\n",
      "[[ 5.]\n",
      " [ 3.]\n",
      " [-2.]]\n"
     ]
    }
   ],
   "source": [
    "a = np.array([[1,1,1],[0,2,5],[2,5,-1]]) \n",
    " \n",
    "print ('数组 a：')\n",
    "print (a)\n",
    "ainv = np.linalg.inv(a) \n",
    " \n",
    "print ('a 的逆：')\n",
    "print (ainv)\n",
    " \n",
    "print ('矩阵 b：')\n",
    "b = np.array([[6],[-4],[27]]) \n",
    "print (b)\n",
    " \n",
    "print ('计算：A^(-1)B：')\n",
    "x = np.linalg.solve(a,b) \n",
    "print (x)\n",
    "x = np.dot(ainv,b)\n",
    "print (x)\n",
    "# 这就是线性方向 x = 5, y = 3, z = -2 的解"
   ]
  },
  {
   "cell_type": "code",
   "execution_count": null,
   "id": "7e3d9f0d",
   "metadata": {},
   "outputs": [],
   "source": []
  }
 ],
 "metadata": {
  "kernelspec": {
   "display_name": "Python 3 (ipykernel)",
   "language": "python",
   "name": "python3"
  },
  "language_info": {
   "codemirror_mode": {
    "name": "ipython",
    "version": 3
   },
   "file_extension": ".py",
   "mimetype": "text/x-python",
   "name": "python",
   "nbconvert_exporter": "python",
   "pygments_lexer": "ipython3",
   "version": "3.9.13"
  }
 },
 "nbformat": 4,
 "nbformat_minor": 5
}
