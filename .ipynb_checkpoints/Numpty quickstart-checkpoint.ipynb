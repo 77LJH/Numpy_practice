{
 "cells": [
  {
   "cell_type": "markdown",
   "id": "d62bb35c",
   "metadata": {},
   "source": [
    "Basic Operations\n",
    "\n",
    "Arithmetic operators on arrays apply elementwise. A new array is created and filled with the result."
   ]
  },
  {
   "cell_type": "code",
   "execution_count": 3,
   "id": "1445e6a4",
   "metadata": {},
   "outputs": [
    {
     "name": "stdout",
     "output_type": "stream",
     "text": [
      "[20 29 38 47]\n",
      "[ 9.12945251 -9.88031624  7.4511316  -2.62374854]\n",
      "[ True  True False False]\n"
     ]
    }
   ],
   "source": [
    "import numpy as np\n",
    "a = np.array([20, 30, 40, 50])\n",
    "b = np.arange(4)\n",
    "c = a - b\n",
    "print(c)\n",
    "print(10 * np.sin(a))\n",
    "print(a < 35)"
   ]
  },
  {
   "cell_type": "code",
   "execution_count": 4,
   "id": "0552e5df",
   "metadata": {},
   "outputs": [
    {
     "name": "stdout",
     "output_type": "stream",
     "text": [
      "[[2 0]\n",
      " [0 4]]\n",
      "[[5 4]\n",
      " [3 4]]\n",
      "[[5 4]\n",
      " [3 4]]\n"
     ]
    }
   ],
   "source": [
    "import numpy as np\n",
    "A = np.array([[1, 1],\n",
    "              [0, 1]])\n",
    "B = np.array([[2, 0],\n",
    "              [3, 4]])\n",
    "print(A*B)\n",
    "print(A@B)\n",
    "print(A.dot(B))"
   ]
  },
  {
   "cell_type": "markdown",
   "id": "70efadff",
   "metadata": {},
   "source": [
    "np.random.default_rng(1)使用给定的种子值（在这里是1）创建一个默认的随机数生成器，并将其赋值给变量rg。您可以使用这个随机数生成器来生成随机数。这个语句使用给定的种子值（在这里是1）创建一个默认的随机数生成器。\n",
    "\n",
    "种子值用于初始化随机数生成器的内部状态。如果您使用相同的种子值创建多个随机数生成器，那么这些生成器将会生成相同的随机数序列。这在某些情况下是很有用的，例如在测试或调试代码时，您可能希望能够重现随机数序列。\n",
    "\n",
    "例如，您可以使用rg.random()方法来生成一个在[0, 1)范围内的随机浮点数，或者使用rg.integers(low, high)方法来生成一个在[low, high)范围内的随机整数。\n",
    "\n",
    "\n",
    "在您提供的代码片段中，数组a和数组c的值是不同的。\n",
    "\n",
    "尽管两个数组都是使用相同种子值为1的随机数生成器rg1创建的，但是在创建数组c之前，您又使用随机数生成器rg1创建了一个数组a。这意味着，在创建数组c之前，随机数生成器rg1的内部状态已经被更新过了。\n",
    "\n",
    "因此，当您再次使用随机数生成器rg1创建数组c时，它将会从更新后的内部状态开始生成随机数。这意味着，数组c中的元素将与数组a中的元素不同。\n",
    "\n",
    "总之，即使您使用相同种子值的随机数生成器创建多个随机数组，这些数组的值也可能不同，具体取决于您调用随机数生成器方法的顺序。"
   ]
  },
  {
   "cell_type": "code",
   "execution_count": 5,
   "id": "ba18d12e",
   "metadata": {},
   "outputs": [
    {
     "name": "stdout",
     "output_type": "stream",
     "text": [
      "[[5. 9. 1. 9.]\n",
      " [3. 4. 8. 4.]\n",
      " [5. 0. 7. 5.]]\n",
      "[[5. 9. 1. 9. 3.]\n",
      " [4. 8. 4. 5. 0.]\n",
      " [7. 5. 3. 7. 3.]\n",
      " [4. 1. 4. 2. 2.]]\n",
      "[[3. 7. 3. 4. 1.]\n",
      " [4. 2. 2. 7. 2.]\n",
      " [4. 9. 9. 7. 5.]\n",
      " [2. 1. 9. 5. 1.]]\n",
      "[[6. 7. 6. 9.]\n",
      " [0. 5. 4. 0.]\n",
      " [6. 8. 5. 2.]]\n",
      "[[2. 5. 2. 1.]\n",
      " [2. 4. 6. 3.]\n",
      " [3. 8. 7. 9.]]\n"
     ]
    }
   ],
   "source": [
    "import numpy as np\n",
    "\n",
    "rg1 = np.random.default_rng(1)\n",
    "a = np.floor(10 * rg1.random((3, 4)))\n",
    "\n",
    "rg2 = np.random.default_rng(1)\n",
    "b = np.floor(10 * rg2.random((4, 5)))\n",
    "\n",
    "c = np.floor(10 * rg1.random((4, 5)))\n",
    "\n",
    "rg3 = np.random.default_rng(1)\n",
    "d=np.floor(10 * rg1.random((3, 4)))\n",
    "\n",
    "# 可以观察到每次运行e的值都会改变，而由指定种子生成器的随机数组不会变\n",
    "e=np.floor(10 * np.random.rand(3,4))\n",
    "\n",
    "print(a)\n",
    "print(b)\n",
    "print(c)\n",
    "print(d)\n",
    "print(e)"
   ]
  },
  {
   "cell_type": "code",
   "execution_count": 6,
   "id": "d3196368",
   "metadata": {},
   "outputs": [
    {
     "data": {
      "text/plain": [
       "array([[1.51182162, 1.9504637 , 1.14415961],\n",
       "       [1.94864945, 1.31183145, 1.42332645]])"
      ]
     },
     "execution_count": 6,
     "metadata": {},
     "output_type": "execute_result"
    }
   ],
   "source": [
    "rg=np.random.default_rng(1)  # create instance of default random number generator\n",
    "a=np.ones((2,3),dtype=int)\n",
    "b = rg.random((2, 3))\n",
    "b += a\n",
    "b\n",
    "# a += b  is wrong  # b is not automatically converted to integer type"
   ]
  },
  {
   "cell_type": "markdown",
   "id": "8c77728a",
   "metadata": {},
   "source": [
    "When operating with arrays of different types, the type of the resulting array corresponds to the more general or precise one (a behavior known as upcasting)."
   ]
  },
  {
   "cell_type": "code",
   "execution_count": 7,
   "id": "d3c9446c",
   "metadata": {},
   "outputs": [
    {
     "name": "stdout",
     "output_type": "stream",
     "text": [
      "float64\n",
      "[1.         2.57079633 4.14159265]\n",
      "[ 0.54030231+0.84147098j -0.84147098+0.54030231j -0.54030231-0.84147098j]\n",
      "complex128\n"
     ]
    }
   ],
   "source": [
    "\n",
    "a = np.ones(3, dtype=np.int32)\n",
    "b = np.linspace(0, np.pi, 3)\n",
    "print(b.dtype.name)\n",
    "c = a + b\n",
    "print(c)\n",
    "d = np.exp(c * 1j)\n",
    "print(d)\n",
    "print(d.dtype)"
   ]
  },
  {
   "cell_type": "code",
   "execution_count": 8,
   "id": "ea68597a",
   "metadata": {},
   "outputs": [
    {
     "name": "stdout",
     "output_type": "stream",
     "text": [
      "[[0.82770259 0.40919914 0.54959369]\n",
      " [0.02755911 0.75351311 0.53814331]]\n",
      "<built-in method sum of numpy.ndarray object at 0x000001EEE9953C30>\n",
      "<built-in method max of numpy.ndarray object at 0x000001EEE9953C30>\n",
      "<built-in method min of numpy.ndarray object at 0x000001EEE9953C30>\n"
     ]
    }
   ],
   "source": [
    "a = rg.random((2, 3))\n",
    "print(a)\n",
    "print(a.sum)\n",
    "print(a.max)\n",
    "print(a.min)\n"
   ]
  },
  {
   "cell_type": "code",
   "execution_count": 9,
   "id": "c1e98ecf",
   "metadata": {},
   "outputs": [
    {
     "name": "stdout",
     "output_type": "stream",
     "text": [
      "[[ 0  1  2  3]\n",
      " [ 4  5  6  7]\n",
      " [ 8  9 10 11]]\n",
      "[12 15 18 21]\n",
      "[ 3  7 11]\n",
      "[[ 0  1  3  6]\n",
      " [ 4  9 15 22]\n",
      " [ 8 17 27 38]]\n"
     ]
    }
   ],
   "source": [
    "a = np.arange(12).reshape(3, 4)\n",
    "print(a)\n",
    "print(a.sum(axis=0))\n",
    "print(a.max(axis=1))\n",
    "print(a.cumsum(axis=1))"
   ]
  },
  {
   "cell_type": "markdown",
   "id": "26af9289",
   "metadata": {},
   "source": [
    "# Universal Functions"
   ]
  },
  {
   "cell_type": "code",
   "execution_count": 10,
   "id": "a3e82637",
   "metadata": {},
   "outputs": [
    {
     "name": "stdout",
     "output_type": "stream",
     "text": [
      "[1.         2.71828183 7.3890561 ]\n",
      "[0.         1.         1.41421356]\n"
     ]
    }
   ],
   "source": [
    "B = np.arange(3)\n",
    "print(np.exp(B))\n",
    "print(np.sqrt(B))\n"
   ]
  },
  {
   "cell_type": "markdown",
   "id": "3655d733",
   "metadata": {},
   "source": [
    "当您使用np.fromfunction函数创建数组时，您不需要手动为函数f传递参数。np.fromfunction函数会自动为函数f传递一组参数，这些参数是根据给定的形状和数组中每个元素的索引计算得到的。"
   ]
  },
  {
   "cell_type": "code",
   "execution_count": 11,
   "id": "78973fc1",
   "metadata": {},
   "outputs": [
    {
     "data": {
      "text/plain": [
       "array([[ 0,  1,  2,  3],\n",
       "       [10, 11, 12, 13],\n",
       "       [20, 21, 22, 23],\n",
       "       [30, 31, 32, 33],\n",
       "       [40, 41, 42, 43]])"
      ]
     },
     "execution_count": 11,
     "metadata": {},
     "output_type": "execute_result"
    }
   ],
   "source": [
    "def f(x, y):\n",
    "    return 10 * x + y\n",
    "b = np.fromfunction(f, (5, 4), dtype=int)\n",
    "b"
   ]
  },
  {
   "cell_type": "code",
   "execution_count": 12,
   "id": "315fe60b",
   "metadata": {},
   "outputs": [
    {
     "name": "stdout",
     "output_type": "stream",
     "text": [
      "[[3. 7. 3. 4.]\n",
      " [1. 4. 2. 2.]\n",
      " [7. 2. 4. 9.]]\n",
      "[3. 7. 3. 4. 1. 4. 2. 2. 7. 2. 4. 9.]\n"
     ]
    }
   ],
   "source": [
    "a = np.floor(10 * rg.random((3, 4)))\n",
    "print(a)\n",
    "print(a.ravel()) # returns the array, flattened"
   ]
  },
  {
   "cell_type": "markdown",
   "id": "4222305a",
   "metadata": {},
   "source": [
    "If a dimension is given as -1 in a reshaping operation, the other dimensions are automatically calculated:"
   ]
  },
  {
   "cell_type": "code",
   "execution_count": 13,
   "id": "da2449a5",
   "metadata": {},
   "outputs": [
    {
     "data": {
      "text/plain": [
       "array([[3., 7., 3.],\n",
       "       [4., 1., 4.],\n",
       "       [2., 2., 7.],\n",
       "       [2., 4., 9.]])"
      ]
     },
     "execution_count": 13,
     "metadata": {},
     "output_type": "execute_result"
    }
   ],
   "source": [
    "a.reshape(4, -1)"
   ]
  },
  {
   "cell_type": "markdown",
   "id": "1137d081",
   "metadata": {},
   "source": [
    "# Stacking together different arrays"
   ]
  },
  {
   "cell_type": "code",
   "execution_count": 14,
   "id": "cb79263e",
   "metadata": {},
   "outputs": [
    {
     "name": "stdout",
     "output_type": "stream",
     "text": [
      "[[9. 7.]\n",
      " [5. 2.]]\n",
      "[[1. 9.]\n",
      " [5. 1.]]\n",
      "[[9. 7.]\n",
      " [5. 2.]\n",
      " [1. 9.]\n",
      " [5. 1.]]\n",
      "[[9. 7. 1. 9.]\n",
      " [5. 2. 5. 1.]]\n"
     ]
    }
   ],
   "source": [
    "a = np.floor(10 * rg.random((2, 2)))\n",
    "b = np.floor(10 * rg.random((2, 2)))\n",
    "print(a)\n",
    "print(b)\n",
    "print(np.vstack((a, b)))\n",
    "print(np.hstack((a, b)))"
   ]
  },
  {
   "cell_type": "markdown",
   "id": "4ab92cc7",
   "metadata": {},
   "source": [
    "The function column_stack stacks 1D arrays as columns into a 2D array. It is equivalent to hstack only for 2D arrays:"
   ]
  },
  {
   "cell_type": "code",
   "execution_count": 15,
   "id": "24581b73",
   "metadata": {},
   "outputs": [
    {
     "name": "stdout",
     "output_type": "stream",
     "text": [
      "[[9. 7. 1. 9.]\n",
      " [5. 2. 5. 1.]]\n",
      "[[4.  3. ]\n",
      " [2.  8. ]\n",
      " [3.  0.2]]\n",
      "[4.  2.  3.  3.  8.  0.2]\n",
      "[[4.]\n",
      " [2.]\n",
      " [3.]]\n",
      "[[4.  3. ]\n",
      " [2.  8. ]\n",
      " [3.  0.2]]\n",
      "[[4.  3. ]\n",
      " [2.  8. ]\n",
      " [3.  0.2]]\n"
     ]
    }
   ],
   "source": [
    "from numpy import newaxis\n",
    "print(np.column_stack((a, b)))  # with 2D arrays\n",
    "a = np.array([4., 2., 3.])\n",
    "b = np.array([3., 8., .2])\n",
    "print(np.column_stack((a, b)))  # returns a 2D array\n",
    "print(np.hstack((a, b)))         # the result is different\n",
    "print(a[:, newaxis])  # view `a` as a 3D column vector\n",
    "print(np.column_stack((a[:, newaxis], b[:, newaxis])))\n",
    "print(np.hstack((a[:, newaxis], b[:, newaxis]))) #  the result is the same"
   ]
  },
  {
   "cell_type": "markdown",
   "id": "909bbbdc",
   "metadata": {},
   "source": [
    "On the other hand, the function row_stack is equivalent to vstack for any input arrays. In fact, row_stack is an alias for vstack:"
   ]
  },
  {
   "cell_type": "markdown",
   "id": "b1152bd4",
   "metadata": {},
   "source": [
    "# Splitting one array into several smaller ones"
   ]
  },
  {
   "cell_type": "code",
   "execution_count": 16,
   "id": "0e41057b",
   "metadata": {},
   "outputs": [
    {
     "name": "stdout",
     "output_type": "stream",
     "text": [
      "[[6. 7. 6. 9. 0. 5. 4. 0. 6. 8. 5. 2.]\n",
      " [8. 5. 5. 7. 1. 8. 6. 7. 1. 8. 1. 0.]]\n",
      "[array([[6., 7., 6., 9.],\n",
      "       [8., 5., 5., 7.]]), array([[0., 5., 4., 0.],\n",
      "       [1., 8., 6., 7.]]), array([[6., 8., 5., 2.],\n",
      "       [1., 8., 1., 0.]])]\n",
      "[array([[6., 7., 6.],\n",
      "       [8., 5., 5.]]), array([[9.],\n",
      "       [7.]]), array([[0., 5., 4., 0., 6., 8., 5., 2.],\n",
      "       [1., 8., 6., 7., 1., 8., 1., 0.]])]\n"
     ]
    }
   ],
   "source": [
    "a = np.floor(10 * rg.random((2, 12)))\n",
    "print(a)\n",
    "print(np.hsplit(a, 3))\n",
    "print(np.hsplit(a, (3, 4)))"
   ]
  },
  {
   "cell_type": "markdown",
   "id": "a5de3d89",
   "metadata": {},
   "source": [
    "# Copies and Views"
   ]
  },
  {
   "cell_type": "markdown",
   "id": "41615581",
   "metadata": {},
   "source": [
    "No Copy at All\n",
    "\n",
    "Simple assignments make no copy of objects or their data."
   ]
  },
  {
   "cell_type": "code",
   "execution_count": 17,
   "id": "c8753e5c",
   "metadata": {},
   "outputs": [
    {
     "data": {
      "text/plain": [
       "True"
      ]
     },
     "execution_count": 17,
     "metadata": {},
     "output_type": "execute_result"
    }
   ],
   "source": [
    "a = np.array([[ 0,  1,  2,  3],\n",
    "              [ 4,  5,  6,  7],\n",
    "              [ 8,  9, 10, 11]])\n",
    "b = a            # no new object is created\n",
    "b is a           # a and b are two names for the same ndarray object"
   ]
  },
  {
   "cell_type": "markdown",
   "id": "1a43fa3b",
   "metadata": {},
   "source": [
    "Python passes mutable objects as references, so function calls make no copy."
   ]
  },
  {
   "cell_type": "code",
   "execution_count": 18,
   "id": "55087b12",
   "metadata": {},
   "outputs": [
    {
     "name": "stdout",
     "output_type": "stream",
     "text": [
      "2125632802416\n",
      "2125632802416\n"
     ]
    }
   ],
   "source": [
    "def f(x):\n",
    "    print(id(x))\n",
    "print(id(a))  # id is a unique identifier of an object \n",
    "f(a)"
   ]
  },
  {
   "cell_type": "markdown",
   "id": "214c0876",
   "metadata": {},
   "source": [
    "View or Shallow Copy"
   ]
  },
  {
   "cell_type": "markdown",
   "id": "0c1ba04c",
   "metadata": {},
   "source": [
    "Different array objects can share the same data. The view method creates a new array object that looks at the same data."
   ]
  },
  {
   "cell_type": "code",
   "execution_count": 19,
   "id": "2379d6a3",
   "metadata": {},
   "outputs": [
    {
     "name": "stdout",
     "output_type": "stream",
     "text": [
      "False\n",
      "True\n",
      "False\n",
      "True\n",
      "[[   0    1    2    3]\n",
      " [1234    5    6    7]\n",
      " [   8    9   10   11]]\n"
     ]
    }
   ],
   "source": [
    "c = a.view()\n",
    "print(c is a)\n",
    "print(c.base is a)   # c is a view of the data owned by a\n",
    "print(c.flags.owndata)\n",
    "print(a.flags.owndata)\n",
    "c = c.reshape((2, 6))  # a's shape doesn't change\n",
    "c[0, 4] = 1234         # a's data changes\n",
    "print(a)"
   ]
  },
  {
   "cell_type": "markdown",
   "id": "a607bda4",
   "metadata": {},
   "source": [
    "Slicing an array returns a view of it:"
   ]
  },
  {
   "cell_type": "code",
   "execution_count": 20,
   "id": "402b5378",
   "metadata": {},
   "outputs": [
    {
     "name": "stdout",
     "output_type": "stream",
     "text": [
      "[[   0   10   10    3]\n",
      " [1234   10   10    7]\n",
      " [   8   10   10   11]]\n"
     ]
    }
   ],
   "source": [
    "s = a[:, 1:3]\n",
    "s[:] = 10  # s[:] is a view of s. Note the difference between s = 10 and s[:] = 10\n",
    "print(a)"
   ]
  },
  {
   "cell_type": "markdown",
   "id": "3c993054",
   "metadata": {},
   "source": [
    "Deep Copy\n",
    "\n",
    "The copy method makes a complete copy of the array and its data."
   ]
  },
  {
   "cell_type": "code",
   "execution_count": 21,
   "id": "b72267ae",
   "metadata": {},
   "outputs": [
    {
     "name": "stdout",
     "output_type": "stream",
     "text": [
      "False\n",
      "False\n",
      "[[   0   10   10    3]\n",
      " [1234   10   10    7]\n",
      " [   8   10   10   11]]\n"
     ]
    }
   ],
   "source": [
    "d = a.copy()  # a new array object with new data is created\n",
    "print(d is a)\n",
    "print(d.base is a) # d doesn't share anything with a\n",
    "d[0, 0] = 9999\n",
    "print(a)"
   ]
  },
  {
   "cell_type": "code",
   "execution_count": 22,
   "id": "dfe14d6e",
   "metadata": {},
   "outputs": [
    {
     "name": "stdout",
     "output_type": "stream",
     "text": [
      "[ 0  1  2  3  4  5  6  7  8  9 10 11 12 13 14 15 16 17 18 19 20 21 22 23\n",
      " 24 25 26 27 28 29 30 31 32 33 34 35 36 37 38 39 40 41 42 43 44 45 46 47\n",
      " 48 49 50 51 52 53 54 55 56 57 58 59 60 61 62 63 64 65 66 67 68 69 70 71\n",
      " 72 73 74 75 76 77 78 79 80 81 82 83 84 85 86 87 88 89 90 91 92 93 94 95\n",
      " 96 97 98 99]\n"
     ]
    }
   ],
   "source": [
    "a = np.arange(int(1e8)) # 100 000 000\n",
    "# b = a[:100].copy()\n",
    "b = a[:100]\n",
    "del a  # the memory of ``a`` can be released.\n",
    "print(b)"
   ]
  },
  {
   "cell_type": "markdown",
   "id": "3bdbbcf7",
   "metadata": {},
   "source": [
    "If b = a[:100] is used instead, a is referenced by b and will persist in memory even if del a is executed."
   ]
  },
  {
   "cell_type": "markdown",
   "id": "538e18d4",
   "metadata": {},
   "source": [
    "# Functions and Methods Overview"
   ]
  },
  {
   "cell_type": "markdown",
   "id": "b7edf5ac",
   "metadata": {},
   "source": [
    "Broadcasting rules\n",
    "\n",
    "Broadcasting allows universal functions to deal in a meaningful way with inputs that do not have exactly the same shape.\n",
    "\n",
    "The first rule of broadcasting is that if all input arrays do not have the same number of dimensions, a “1” will be repeatedly prepended to the shapes of the smaller arrays until all the arrays have the same number of dimensions.\n",
    "\n",
    "The second rule of broadcasting ensures that arrays with a size of 1 along a particular dimension act as if they had the size of the array with the largest shape along that dimension. The value of the array element is assumed to be the same along that dimension for the “broadcast” array.\n",
    "\n",
    "After application of the broadcasting rules, the sizes of all arrays must match. More details can be found in Broadcasting."
   ]
  },
  {
   "cell_type": "markdown",
   "id": "bff0eaf2",
   "metadata": {},
   "source": [
    "# Advanced indexing and index tricks"
   ]
  },
  {
   "cell_type": "markdown",
   "id": "0e69c169",
   "metadata": {},
   "source": [
    "NumPy offers more indexing facilities than regular Python sequences. In addition to indexing by integers and slices, as we saw before, arrays can be indexed by arrays of integers and arrays of booleans.\n",
    "\n",
    "\n",
    "Indexing with Arrays of Indices"
   ]
  },
  {
   "cell_type": "code",
   "execution_count": 23,
   "id": "314e0c1f",
   "metadata": {},
   "outputs": [
    {
     "name": "stdout",
     "output_type": "stream",
     "text": [
      "[ 1  1  9 64 25]\n",
      "[[ 9 16]\n",
      " [81 49]]\n"
     ]
    }
   ],
   "source": [
    "a = np.arange(12)**2  # the first 12 square numbers\n",
    "i = np.array([1, 1, 3, 8, 5])  # an array of indices\n",
    "print(a[i]) # the same shape as `i`\n",
    "j = np.array([[3, 4], [9, 7]])  # a bidimensional array of indices\n",
    "print(a[j]) # the same shape as `j`"
   ]
  },
  {
   "cell_type": "markdown",
   "id": "9cfb77b6",
   "metadata": {},
   "source": [
    "When the indexed array a is multidimensional, a single array of indices refers to the first dimension of a. The following example shows this behavior by converting an image of labels into a color image using a palette."
   ]
  },
  {
   "cell_type": "code",
   "execution_count": 24,
   "id": "1f1cfbca",
   "metadata": {},
   "outputs": [
    {
     "name": "stdout",
     "output_type": "stream",
     "text": [
      "[[[  0   0   0]\n",
      "  [255   0   0]\n",
      "  [  0 255   0]\n",
      "  [  0   0   0]]\n",
      "\n",
      " [[  0   0   0]\n",
      "  [  0   0 255]\n",
      "  [255 255 255]\n",
      "  [  0   0   0]]]\n"
     ]
    }
   ],
   "source": [
    "palette = np.array([[0, 0, 0],         # black\n",
    "                    [255, 0, 0],       # red\n",
    "                    [0, 255, 0],       # green\n",
    "                    [0, 0, 255],       # blue\n",
    "                    [255, 255, 255]])  # white\n",
    "image = np.array([[0, 1, 2, 0],  # each value corresponds to a color in the palette\n",
    "                  [0, 3, 4, 0]])\n",
    "print(palette[image])  # the (2, 4, 3) color image   # the same shape as `image`"
   ]
  },
  {
   "cell_type": "markdown",
   "id": "07203531",
   "metadata": {},
   "source": [
    "We can also give indexes for more than one dimension. The arrays of indices for each dimension must have the same shape."
   ]
  },
  {
   "cell_type": "code",
   "execution_count": 25,
   "id": "9781535e",
   "metadata": {},
   "outputs": [
    {
     "name": "stdout",
     "output_type": "stream",
     "text": [
      "[[ 0  1  2  3]\n",
      " [ 4  5  6  7]\n",
      " [ 8  9 10 11]]\n",
      "[[ 2  5]\n",
      " [ 7 11]]\n",
      "[[ 2  6]\n",
      " [ 6 10]]\n",
      "[[[ 2  1]\n",
      "  [ 3  3]]\n",
      "\n",
      " [[ 6  5]\n",
      "  [ 7  7]]\n",
      "\n",
      " [[10  9]\n",
      "  [11 11]]]\n"
     ]
    }
   ],
   "source": [
    "a = np.arange(12).reshape(3, 4)\n",
    "print(a)\n",
    "i = np.array([[0, 1],  # indices for the first dim of `a`\n",
    "              [1, 2]])\n",
    "j = np.array([[2, 1],  # indices for the second dim\n",
    "              [3, 3]])\n",
    "print(a[i, j]) # i and j must have equal shape\n",
    "print(a[i, 2])\n",
    "print(a[:, j])"
   ]
  },
  {
   "cell_type": "markdown",
   "id": "dafcf445",
   "metadata": {},
   "source": [
    "In Python, arr[i, j] is exactly the same as arr[(i, j)]—so we can put i and j in a tuple and then do the indexing with that.\n",
    "\n",
    "However, we can not do this by putting i and j into an array, because this array will be interpreted as indexing the first dimension of a."
   ]
  },
  {
   "cell_type": "code",
   "execution_count": 26,
   "id": "0112e185",
   "metadata": {
    "scrolled": true
   },
   "outputs": [
    {
     "name": "stdout",
     "output_type": "stream",
     "text": [
      "[[ 2  5]\n",
      " [ 7 11]]\n"
     ]
    }
   ],
   "source": [
    "l=(i,j)\n",
    "print(a[l])"
   ]
  },
  {
   "cell_type": "markdown",
   "id": "b3d3a667",
   "metadata": {},
   "source": [
    "Another common use of indexing with arrays is the search of the maximum value of time-dependent series:\n",
    "\n",
    "如果 data 是一个二维数组，那么 data.shape[0] 就是它的行数，而 data.shape[1] 就是它的列数。"
   ]
  },
  {
   "cell_type": "code",
   "execution_count": 27,
   "id": "7ff9623d",
   "metadata": {},
   "outputs": [
    {
     "name": "stdout",
     "output_type": "stream",
     "text": [
      "[ 20.    51.25  82.5  113.75 145.  ]\n",
      "[[ 0.          0.84147098  0.90929743  0.14112001]\n",
      " [-0.7568025  -0.95892427 -0.2794155   0.6569866 ]\n",
      " [ 0.98935825  0.41211849 -0.54402111 -0.99999021]\n",
      " [-0.53657292  0.42016704  0.99060736  0.65028784]\n",
      " [-0.28790332 -0.96139749 -0.75098725  0.14987721]]\n",
      "[2 0 3 1]\n",
      "[ 82.5   20.   113.75  51.25]\n",
      "[0.98935825 0.84147098 0.99060736 0.6569866 ]\n",
      "True\n"
     ]
    }
   ],
   "source": [
    "time = np.linspace(20, 145, 5)  # time scale\n",
    "data = np.sin(np.arange(20)).reshape(5, 4)  # 4 time-dependent series\n",
    "print(time)\n",
    "print(data)\n",
    "# index of the maxima for each series\n",
    "ind = data.argmax(axis=0)\n",
    "print(ind)\n",
    "# times corresponding to the maxima\n",
    "time_max = time[ind]\n",
    "data_max = data[ind, range(data.shape[1])]  # => data[ind[0], 0], data[ind[1], 1]...\n",
    "print(time_max)\n",
    "print(data_max)\n",
    "print(np.all(data_max==data.max(axis=0)))"
   ]
  },
  {
   "cell_type": "markdown",
   "id": "7a1b9373",
   "metadata": {},
   "source": [
    "# Indexing with Boolean Arrays"
   ]
  },
  {
   "cell_type": "code",
   "execution_count": 28,
   "id": "37582d84",
   "metadata": {},
   "outputs": [
    {
     "name": "stdout",
     "output_type": "stream",
     "text": [
      "[[False False False False]\n",
      " [False  True  True  True]\n",
      " [ True  True  True  True]]\n",
      "[ 5  6  7  8  9 10 11]\n"
     ]
    }
   ],
   "source": [
    "a=np.arange(12).reshape(3,4)\n",
    "b=a>4\n",
    "print(b)\n",
    "print(a[b])"
   ]
  },
  {
   "cell_type": "code",
   "execution_count": 29,
   "id": "02a72785",
   "metadata": {},
   "outputs": [
    {
     "name": "stdout",
     "output_type": "stream",
     "text": [
      "[[0 1 2 3]\n",
      " [4 0 0 0]\n",
      " [0 0 0 0]]\n"
     ]
    }
   ],
   "source": [
    "a[b]=0\n",
    "print(a)"
   ]
  },
  {
   "attachments": {
    "image-2.png": {
     "image/png": "[encoded data removed]"
    },
    "image.png": {
     "image/png": "[encoded data removed]"
    }
   },
   "cell_type": "markdown",
   "id": "f1b1dd7e",
   "metadata": {},
   "source": [
    "我们使用np.meshgrid函数从一维数组x = [0, 1, 2]和y = [0, 1]生成了两个二维数组X和Y。这两个数组表示了一个二维网格，其中每个点的坐标由X和Y中对应位置的元素组成。具体来说，我们可以将这个二维网格表示为：\n",
    "\n",
    "![image.png](attachment:image.png)\n",
    "\n",
    "在这个网格中，每个点都是由输入数组x和y中的元素组成的坐标对。例如，点(0, 0)是由x[0] = 0和y[0] = 0组成的坐标对，而点(2, 1)是由x[2] = 2和y[1] = 1组成的坐标对。\n",
    "\n",
    "X，Y：\n",
    "![image-2.png](attachment:image-2.png)"
   ]
  },
  {
   "cell_type": "code",
   "execution_count": 33,
   "id": "0d165b8d",
   "metadata": {},
   "outputs": [
    {
     "data": {
      "text/plain": [
       "<matplotlib.image.AxesImage at 0x1ee85311280>"
      ]
     },
     "execution_count": 33,
     "metadata": {},
     "output_type": "execute_result"
    },
    {
     "data": {
      "image/png": "[encoded data removed]",
      "text/plain": [
       "<Figure size 640x480 with 1 Axes>"
      ]
     },
     "metadata": {},
     "output_type": "display_data"
    }
   ],
   "source": [
    "import matplotlib.pyplot as plt\n",
    "\n",
    "def mandelbrot(h, w, maxit=20, r=2):\n",
    "    \"\"\"\n",
    "    返回一个大小为(h,w)的Mandelbrot分形图像\n",
    "    \"\"\"\n",
    "    # 在x轴上生成4h+1个点，在[-2.5,1.5]范围内均匀分布\n",
    "    x = np.linspace(-2.5, 1.5, 4*h+1)\n",
    "    # 在y轴上生成3w+1个点，在[-1.5,1.5]范围内均匀分布\n",
    "    y = np.linspace(-1.5, 1.5, 3*w+1) \n",
    "    # 生成复平面上所有点的坐标矩阵，存储在C中\n",
    "    A, B = np.meshgrid(x, y)\n",
    "    C = A + B*1j\n",
    "    # 初始化z数组0，与C的形状相同,用来记录每个点的状态\n",
    "    z = np.zeros_like(C)\n",
    "    # 初始化divtime数组，所有元素都为maxit\n",
    "    divtime = maxit + np.zeros(z.shape, dtype=int)\n",
    "    \n",
    "    for i in range(maxit):# 最大迭代次数\n",
    "        # 计算下一轮迭代时的z值\n",
    "        z = z**2 + C\n",
    "        # 判断哪些点已经发散 , Z向量的模大于指定的阈值r则对于位置为TRUE\n",
    "        diverge = abs(z) > r\n",
    "        # 判断哪些点是本轮迭代首次发散\n",
    "        div_now = diverge & (divtime == maxit) # 记录第一次分散\n",
    "        # 记录这些点首次发散的迭代次数\n",
    "        divtime[div_now] = i\n",
    "        # 避免发散过多，将已发散的点的z值设为r\n",
    "        z[diverge] = r\n",
    "        \n",
    "    return divtime\n",
    "\n",
    "# 清除当前图形\n",
    "plt.clf()\n",
    "# 绘制Mandelbrot分形图像\n",
    "plt.imshow(mandelbrot(400, 400))\n"
   ]
  },
  {
   "cell_type": "markdown",
   "id": "d9ae418f",
   "metadata": {},
   "source": [
    "# The ix_() function"
   ]
  },
  {
   "cell_type": "markdown",
   "id": "feba31f5",
   "metadata": {},
   "source": [
    "np.ix_ 函数就是输入两个数组，产生笛卡尔积的映射关系。\n",
    "\n",
    "笛卡尔乘积是指在数学中，两个集合 X 和 Y 的笛卡尔积（Cartesian product），又称直积，表示为 X×Y，第一个对象是X的成员而第二个对象是 Y 的所有可能有序对的其中一个成员。\n",
    "\n",
    "例如 A={a,b}, B={0,1,2}，则：\n",
    "\n",
    "A×B={(a, 0), (a, 1), (a, 2), (b, 0), (b, 1), (b, 2)}\n",
    "B×A={(0, a), (0, b), (1, a), (1, b), (2, a), (2, b)}"
   ]
  },
  {
   "cell_type": "code",
   "execution_count": 48,
   "id": "82618e88",
   "metadata": {},
   "outputs": [
    {
     "name": "stdout",
     "output_type": "stream",
     "text": [
      "[[[2]]\n",
      "\n",
      " [[3]]\n",
      "\n",
      " [[4]]\n",
      "\n",
      " [[5]]]\n",
      "[[[8]\n",
      "  [5]\n",
      "  [4]]]\n",
      "[[[5 4 6 8 3]]]\n",
      "(4, 1, 1) (1, 3, 1) (1, 1, 5)\n",
      "[[[42 34 50 66 26]\n",
      "  [27 22 32 42 17]\n",
      "  [22 18 26 34 14]]\n",
      "\n",
      " [[43 35 51 67 27]\n",
      "  [28 23 33 43 18]\n",
      "  [23 19 27 35 15]]\n",
      "\n",
      " [[44 36 52 68 28]\n",
      "  [29 24 34 44 19]\n",
      "  [24 20 28 36 16]]\n",
      "\n",
      " [[45 37 53 69 29]\n",
      "  [30 25 35 45 20]\n",
      "  [25 21 29 37 17]]]\n",
      "17\n",
      "17\n"
     ]
    }
   ],
   "source": [
    "a = np.array([2, 3, 4, 5])\n",
    "b = np.array([8, 5, 4])\n",
    "c = np.array([5, 4, 6, 8, 3])\n",
    "ax, bx, cx = np.ix_(a, b, c)\n",
    "print(ax)\n",
    "print(bx)\n",
    "print(cx)\n",
    "print(ax.shape, bx.shape, cx.shape)\n",
    "result = ax + bx * cx\n",
    "print(result)\n",
    "print(result[3, 2, 4])\n",
    "print(a[3] + b[2] * c[4])"
   ]
  },
  {
   "cell_type": "markdown",
   "id": "a7f71a47",
   "metadata": {},
   "source": [
    "# Tricks and Tips"
   ]
  },
  {
   "cell_type": "markdown",
   "id": "d9cc88cf",
   "metadata": {},
   "source": [
    "# “Automatic” Reshaping"
   ]
  },
  {
   "cell_type": "code",
   "execution_count": 46,
   "id": "0b3923e9",
   "metadata": {},
   "outputs": [
    {
     "data": {
      "text/plain": [
       "(2, 5, 3)"
      ]
     },
     "execution_count": 46,
     "metadata": {},
     "output_type": "execute_result"
    }
   ],
   "source": [
    "a = np.arange(30)\n",
    "b = a.reshape((2, -1, 3))  # -1 means \"whatever is needed\"\n",
    "b.shape"
   ]
  },
  {
   "cell_type": "markdown",
   "id": "869892fd",
   "metadata": {},
   "source": [
    "# Vector Stacking"
   ]
  },
  {
   "cell_type": "code",
   "execution_count": 47,
   "id": "665c531f",
   "metadata": {},
   "outputs": [
    {
     "name": "stdout",
     "output_type": "stream",
     "text": [
      "[[0 2 4 6 8]\n",
      " [0 1 2 3 4]]\n",
      "[0 2 4 6 8 0 1 2 3 4]\n"
     ]
    }
   ],
   "source": [
    "x = np.arange(0, 10, 2)\n",
    "y = np.arange(5)\n",
    "m = np.vstack([x, y])\n",
    "print(m)\n",
    "xy = np.hstack([x, y])\n",
    "print(xy)"
   ]
  },
  {
   "cell_type": "markdown",
   "id": "0698600a",
   "metadata": {},
   "source": [
    "# Histograms"
   ]
  },
  {
   "cell_type": "markdown",
   "id": "cb23c86f",
   "metadata": {},
   "source": [
    "在直方图中，bin（也称为bin width）指的是将数据范围分成若干个等距的区间所得到的子区间。例如，在上述代码中， bins=50 表示将数据范围分成了 50 个区间，每个区间的宽度相等。在绘制直方图时，每个子区间内的数据将被计数，并在该区间的高度上显示。直方图的形状和解释通常与所选的bin数量和宽度有关，因此对于某些数据集，选择正确的bin数量和宽度非常重要。"
   ]
  },
  {
   "cell_type": "code",
   "execution_count": 45,
   "id": "9a7c0d82",
   "metadata": {},
   "outputs": [
    {
     "data": {
      "text/plain": [
       "[<matplotlib.lines.Line2D at 0x1ee8f1e1fd0>]"
      ]
     },
     "execution_count": 45,
     "metadata": {},
     "output_type": "execute_result"
    },
    {
     "data": {
      "image/png": "[encoded data removed]",
      "text/plain": [
       "<Figure size 640x480 with 1 Axes>"
      ]
     },
     "metadata": {},
     "output_type": "display_data"
    }
   ],
   "source": [
    "rg=np.random.default_rng(1)\n",
    "import matplotlib.pyplot as plt\n",
    "# Build a vector of 10000 normal deviates with variance 0.5^2 and mean 2\n",
    "mu,sigma=2,0.5\n",
    "v=rg.normal(mu,sigma,10000)\n",
    "# Plot a normalized histogram with 50 bins 绘制具有 50 个 bin 的归一化直方图\n",
    "plt.hist(v,bins=50,density=True)\n",
    "# Compute the histogram with numpy and then plot it\n",
    "(n, bins) = np.histogram(v, bins=50, density=True)  # NumPy version (no plot)\n",
    "plt.plot(.5 * (bins[1:] + bins[:-1]), n) "
   ]
  }
 ],
 "metadata": {
  "kernelspec": {
   "display_name": "Python 3 (ipykernel)",
   "language": "python",
   "name": "python3"
  },
  "language_info": {
   "codemirror_mode": {
    "name": "ipython",
    "version": 3
   },
   "file_extension": ".py",
   "mimetype": "text/x-python",
   "name": "python",
   "nbconvert_exporter": "python",
   "pygments_lexer": "ipython3",
   "version": "3.9.13"
  }
 },
 "nbformat": 4,
 "nbformat_minor": 5
}
