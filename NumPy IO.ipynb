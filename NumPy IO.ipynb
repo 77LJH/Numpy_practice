{
 "cells": [
  {
   "cell_type": "markdown",
   "id": "d808de00",
   "metadata": {},
   "source": [
    "# NumPy IO"
   ]
  },
  {
   "cell_type": "markdown",
   "id": "3e49d893",
   "metadata": {},
   "source": [
    "Numpy 可以读写磁盘上的文本数据或二进制数据。\n",
    "\n",
    "NumPy 为 ndarray 对象引入了一个简单的文件格式：npy。\n",
    "\n",
    "npy 文件用于存储重建 ndarray 所需的数据、图形、dtype 和其他信息。\n",
    "\n",
    "常用的 IO 函数有：\n",
    "\n",
    "load() 和 save() 函数是读写文件数组数据的两个主要函数，默认情况下，数组是以未压缩的原始二进制格式保存在扩展名为 .npy 的文件中。\n",
    "savez() 函数用于将多个数组写入文件，默认情况下，数组是以未压缩的原始二进制格式保存在扩展名为 .npz 的文件中。\n",
    "loadtxt() 和 savetxt() 函数处理正常的文本文件(.txt 等)\n",
    "numpy.save()\n",
    "numpy.save() 函数将数组保存到以 .npy 为扩展名的文件中。\n",
    "\n",
    "numpy.save(file, arr, allow_pickle=True, fix_imports=True)\n",
    "参数说明：\n",
    "\n",
    "file：要保存的文件，扩展名为 .npy，如果文件路径末尾没有扩展名 .npy，该扩展名会被自动加上。\n",
    "arr: 要保存的数组\n",
    "allow_pickle: 可选，布尔值，允许使用 Python pickles 保存对象数组，Python 中的 pickle 用于在保存到磁盘文件或从磁盘文件读取之前，对对象进行序列化和反序列化。\n",
    "fix_imports: 可选，为了方便 Pyhton2 中读取 Python3 保存的数据。\n",
    "\n",
    "\n",
    "\n",
    "\n",
    "\n",
    "\n",
    "\n",
    "numpy.save()和numpy.savetxt()都可以用于将数组保存到文件中，但它们有以下区别：\n",
    "\n",
    "numpy.save()保存的是二进制文件，后缀名是.npy，而numpy.savetxt()保存的是文本文件，可以指定后缀名（如.txt）。\n",
    "\n",
    "numpy.save()只能保存一个数组。而numpy.savetxt()只能保存一个数组。\n",
    "\n",
    "numpy.save()保存的文件可以使用numpy.load()进行读取，而numpy.savetxt()保存的文件可以使用numpy.loadtxt()进行读取。\n",
    "\n",
    "numpy.save()保存的文件占用空间较小，读写速度较快，适合于保存大型数组；而numpy.savetxt()保存的文件占用空间较大，读写速度较慢，适合于保存小型数组或需要人工查看的数据。\n",
    "\n",
    "numpy.savetxt()支持指定分隔符、格式、行结束符等参数，可以更灵活地控制输出格式。而numpy.save()没有这些参数，输出格式是固定的。\n",
    "\n",
    "\n",
    "\n",
    "\n",
    "使用 numpy.save() 函数时，若指定的文件名已经存在，将会被覆盖。而 numpy.savez() 函数在文件名已存在的情况下，会自动为新的文件添加一个数字后缀以避免覆盖之前的文件。"
   ]
  },
  {
   "cell_type": "code",
   "execution_count": 31,
   "id": "18f17920",
   "metadata": {},
   "outputs": [],
   "source": [
    "import numpy as np \n",
    "a=np.array([1,2,3,4,5])\n",
    "\n",
    "# 保存到outfile.npy文件上\n",
    "np.save(\"outfile.npy\",a)\n",
    "\n",
    "np.save(\"outfile2\",a)\n",
    "\n",
    "\n",
    "# 出现了内容覆盖，输入的两个数组被保存到同一个数组\n",
    "c = np.array([1, 2, 3])\n",
    "b = np.array([4, 5, 6])\n",
    "\n",
    "np.save('outfile.npy', (c, b))\n"
   ]
  },
  {
   "cell_type": "markdown",
   "id": "7d84a10c",
   "metadata": {},
   "source": [
    "我们可以查看文件内容：\n",
    "\n",
    "$ cat outfile.npy \n",
    "?NUMPYv{'descr': '<i8', 'fortran_order': False, 'shape': (5,), }  \n",
    "$ cat outfile2.npy \n",
    "?NUMPYv{'descr': '<i8', 'fortran_order': False, 'shape': (5,), } \n",
    "可以看出文件是乱码的，因为它们是 Numpy 专用的二进制格式后的数据。\n",
    "\n",
    "我们可以使用 load() 函数来读取数据就可以正常显示了："
   ]
  },
  {
   "cell_type": "code",
   "execution_count": 32,
   "id": "705ae122",
   "metadata": {},
   "outputs": [
    {
     "name": "stdout",
     "output_type": "stream",
     "text": [
      "[[1 2 3]\n",
      " [4 5 6]]\n"
     ]
    }
   ],
   "source": [
    "b = np.load('outfile.npy')  \n",
    "print (b)"
   ]
  },
  {
   "cell_type": "markdown",
   "id": "10ecce72",
   "metadata": {},
   "source": [
    "np.savez\n",
    "numpy.savez() 函数将多个数组保存到以 npz 为扩展名的文件中。\n",
    "\n",
    "numpy.savez(file, *args, **kwds)\n",
    "参数说明：\n",
    "\n",
    "file：要保存的文件，扩展名为 .npz，如果文件路径末尾没有扩展名 .npz，该扩展名会被自动加上。\n",
    "args: 要保存的数组，可以使用关键字参数为数组起一个名字，非关键字参数传递的数组会自动起名为 arr_0, arr_1, …　。\n",
    "kwds: 要保存的数组使用关键字名称。"
   ]
  },
  {
   "cell_type": "code",
   "execution_count": 33,
   "id": "badaef30",
   "metadata": {},
   "outputs": [
    {
     "name": "stdout",
     "output_type": "stream",
     "text": [
      "['sin_array', 'arr_0', 'arr_1']\n",
      "[[1 2 3]\n",
      " [4 5 6]]\n",
      "[0.  0.1 0.2 0.3 0.4 0.5 0.6 0.7 0.8 0.9]\n",
      "[0.         0.09983342 0.19866933 0.29552021 0.38941834 0.47942554\n",
      " 0.56464247 0.64421769 0.71735609 0.78332691]\n",
      "<numpy.lib.npyio.NpzFile object at 0x000001EF3AE3DD30>\n"
     ]
    }
   ],
   "source": [
    "a = np.array([[1,2,3],[4,5,6]])\n",
    "b = np.arange(0, 1.0, 0.1)\n",
    "c=np.sin(b)\n",
    "# c 使用了关键字参数 sin_array\n",
    "np.savez(\"runoob.npz\",a,b,sin_array=c)\n",
    "r=np.load(\"runoob.npz\")\n",
    "print(r.files) # 查看各个数组名称\n",
    "print(r[\"arr_0\"]) # 数组 a\n",
    "print(r[\"arr_1\"]) # 数组 b\n",
    "print(r[\"sin_array\"]) # 数组 c\n",
    "print(np.load(\"runoob.npz\"))\n"
   ]
  },
  {
   "cell_type": "markdown",
   "id": "ae65226b",
   "metadata": {},
   "source": [
    "savetxt()\n",
    "savetxt() 函数是以简单的文本文件格式存储数据，对应的使用 loadtxt() 函数来获取数据。\n",
    "\n",
    "np.loadtxt(FILENAME, dtype=int, delimiter=' ')\n",
    "np.savetxt(FILENAME, a, fmt=\"%d\", delimiter=\",\")\n",
    "参数 delimiter 可以指定各种分隔符、针对特定列的转换器函数、需要跳过的行数等。"
   ]
  },
  {
   "cell_type": "code",
   "execution_count": 34,
   "id": "385c27c6",
   "metadata": {},
   "outputs": [
    {
     "name": "stdout",
     "output_type": "stream",
     "text": [
      "[1. 2. 3. 4. 5.]\n"
     ]
    }
   ],
   "source": [
    "a=np.array([1,2,3,4,5])\n",
    "np.savetxt(\"out.txt\",a)\n",
    "b=np.loadtxt(\"out.txt\")\n",
    "print(b)"
   ]
  },
  {
   "attachments": {
    "image-2.png": {
     "image/png": "[encoded data removed]"
    }
   },
   "cell_type": "markdown",
   "id": "4b44ee9a",
   "metadata": {},
   "source": [
    "这就是存储格式：\n",
    "![image-2.png](attachment:image-2.png)"
   ]
  },
  {
   "cell_type": "code",
   "execution_count": 35,
   "id": "156e1512",
   "metadata": {
    "scrolled": true
   },
   "outputs": [
    {
     "name": "stdout",
     "output_type": "stream",
     "text": [
      "[[0. 0. 1. 1. 2.]\n",
      " [2. 3. 3. 4. 4.]\n",
      " [5. 5. 6. 6. 7.]\n",
      " [7. 8. 8. 9. 9.]]\n",
      "[[0 0 1 1 2]\n",
      " [2 3 3 4 4]\n",
      " [5 5 6 6 7]\n",
      " [7 8 8 9 9]]\n"
     ]
    }
   ],
   "source": [
    "# reshape(4, -1) 把一维的数组重新排列成4行5列的二维数组，行数是指定的4，而列数由-1自动计算得出，\n",
    "# -1表示让NumPy自动计算。因此，这一步将一维数组变成了4行5列的二维数组\n",
    "a=np.arange(0,10,0.5).reshape(4,-1)\n",
    "# 覆盖原先的内容\n",
    "np.savetxt(\"out.txt\",a,fmt=\"%d\",delimiter=\",\") # 改为保存为整数，每个元素以逗号分隔\n",
    "b = np.loadtxt(\"out.txt\",delimiter=\",\") # load 时也要指定为逗号分隔\n",
    "print(b)\n",
    "# 可以看到输出的数组中仍然包含小数，这是因为在保存文件时使用了 \"%d\" 格式化字符串，\n",
    "# 这会把小数截断为整数，但在读取文件时使用的是默认的 float 类型，所以仍然保留了小数。\n",
    "# 如果想要保留整数的话，可以在读取文件时指定数据类型为 int，代码如下：\n",
    "b = np.loadtxt(\"out.txt\", delimiter=\",\", dtype=int)\n",
    "print(b)"
   ]
  },
  {
   "attachments": {
    "image.png": {
     "image/png": "[encoded data removed]"
    }
   },
   "cell_type": "markdown",
   "id": "91e31ade",
   "metadata": {},
   "source": [
    "存储格式：\n",
    "![image.png](attachment:image.png)"
   ]
  },
  {
   "cell_type": "markdown",
   "id": "72f4463d",
   "metadata": {},
   "source": [
    "如果文件已经存在，使用np.savetxt()函数写入数据时会默认覆盖原来的内容。"
   ]
  },
  {
   "cell_type": "code",
   "execution_count": 39,
   "id": "de65b2aa",
   "metadata": {},
   "outputs": [
    {
     "name": "stdout",
     "output_type": "stream",
     "text": [
      "[[0. 0. 1. 1. 2.]\n",
      " [2. 3. 3. 4. 4.]\n",
      " [5. 5. 6. 6. 7.]\n",
      " [7. 8. 8. 9. 9.]]\n",
      "[[ 7.  8.  9.]\n",
      " [10. 11. 12.]\n",
      " [ 7.  8.  9.]\n",
      " [10. 11. 12.]\n",
      " [ 7.  8.  9.]\n",
      " [10. 11. 12.]\n",
      " [ 7.  8.  9.]\n",
      " [10. 11. 12.]]\n"
     ]
    }
   ],
   "source": [
    "b = np.array([[7,8,9], [10,11,12]])\n",
    "with open('out.txt', 'a') as f:\n",
    "    np.savetxt(f, b, fmt=\"%d\",delimiter=',')\n",
    "# 从文件中读取数据\n",
    "a = np.loadtxt(\"out.txt\", delimiter=\",\", max_rows=4)\n",
    "print(a)\n",
    "b = np.loadtxt(\"out.txt\", delimiter=\",\", skiprows=4)\n",
    "print(b)"
   ]
  },
  {
   "cell_type": "markdown",
   "id": "3f75e4c6",
   "metadata": {},
   "source": [
    "它包含两个不同的数组，每个数组的列数不同。因此，当使用np.loadtxt()加载数据时，您需要指定要加载的行数和列数。\n",
    "\n",
    "请注意，如果第二个数组的列数与第一个数组的列数不同，np.loadtxt()函数将引发错误。"
   ]
  }
 ],
 "metadata": {
  "kernelspec": {
   "display_name": "Python 3 (ipykernel)",
   "language": "python",
   "name": "python3"
  },
  "language_info": {
   "codemirror_mode": {
    "name": "ipython",
    "version": 3
   },
   "file_extension": ".py",
   "mimetype": "text/x-python",
   "name": "python",
   "nbconvert_exporter": "python",
   "pygments_lexer": "ipython3",
   "version": "3.9.13"
  }
 },
 "nbformat": 4,
 "nbformat_minor": 5
}
