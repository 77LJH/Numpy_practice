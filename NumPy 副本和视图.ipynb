{
 "cells": [
  {
   "cell_type": "markdown",
   "id": "eafd8af9",
   "metadata": {},
   "source": [
    "# NumPy 副本和视图"
   ]
  },
  {
   "cell_type": "markdown",
   "id": "3cbec10b",
   "metadata": {},
   "source": [
    "副本是一个数据的完整的拷贝，如果我们对副本进行修改，它不会影响到原始数据，物理内存不在同一位置。\n",
    "\n",
    "视图是数据的一个别称或引用，通过该别称或引用亦便可访问、操作原有数据，但原有数据不会产生拷贝。如果我们对视图进行修改，它会影响到原始数据，物理内存在同一位置。\n",
    "\n",
    "视图一般发生在：\n",
    "\n",
    "1、numpy 的切片操作返回原数据的视图。\n",
    "2、调用 ndarray 的 view() 函数产生一个视图。\n",
    "副本一般发生在：\n",
    "\n",
    "Python 序列的切片操作，调用deepCopy()函数。\n",
    "调用 ndarray 的 copy() 函数产生一个副本。\n",
    "\n",
    "\n",
    "基本上是正确的。下面是一些补充信息：\n",
    "\n",
    "在 NumPy 中，如果通过切片或者布尔索引访问 ndarray 的子集，则返回的是原始数据的视图。这意味着，任何对该视图的修改都会反映在原始数据中。但是，如果通过整数索引访问 ndarray 的子集，则返回的是原始数据的副本，因此对该副本的修改不会影响到原始数据。\n",
    "\n",
    "ndarray 的 view() 方法可以创建一个视图，该视图与原始数组共享数据存储区域，但是具有自己的形状和数据类型。例如，可以使用 reshape() 方法创建一个视图，该视图与原始数组共享数据存储区域，但是具有不同的形状。类似地，可以使用 astype() 方法创建一个视图，该视图与原始数组共享数据存储区域，但是具有不同的数据类型。需要注意的是，修改视图的形状或数据类型可能会影响到原始数组的数据类型，因此需要谨慎使用。\n",
    "\n",
    "\n",
    "无复制\n",
    "\n",
    "\n",
    "简单的赋值不会创建数组对象的副本。 相反，它使用原始数组的相同id()来访问它。 id()返回 Python 对象的通用标识符，类似于 C 中的指针。\n",
    "\n",
    "此外，一个数组的任何变化都反映在另一个数组上。 例如，一个数组的形状改变也会改变另一个数组的形状。"
   ]
  },
  {
   "cell_type": "code",
   "execution_count": 3,
   "id": "a8028015",
   "metadata": {},
   "outputs": [
    {
     "name": "stdout",
     "output_type": "stream",
     "text": [
      "我们的数组是：\n",
      "[0 1 2 3 4 5]\n",
      "调用 id() 函数：\n",
      "2426723517040\n",
      "a 赋值给 b：\n",
      "[0 1 2 3 4 5]\n",
      "b 拥有相同 id()：\n",
      "2426723517040\n",
      "修改 b 的形状：\n",
      "[[0 1]\n",
      " [2 3]\n",
      " [4 5]]\n",
      "a 的形状也修改了：\n",
      "[[0 1]\n",
      " [2 3]\n",
      " [4 5]]\n"
     ]
    }
   ],
   "source": [
    "import numpy as np \n",
    "a = np.arange(6)  \n",
    "print ('我们的数组是：')\n",
    "print (a)\n",
    "print ('调用 id() 函数：')\n",
    "print (id(a))\n",
    "print ('a 赋值给 b：')\n",
    "b = a \n",
    "print (b)\n",
    "print ('b 拥有相同 id()：')\n",
    "print (id(b))\n",
    "print ('修改 b 的形状：')\n",
    "b.shape =  3,2  \n",
    "print (b)\n",
    "print ('a 的形状也修改了：')\n",
    "print (a)"
   ]
  },
  {
   "cell_type": "markdown",
   "id": "3cf81829",
   "metadata": {},
   "source": [
    "视图或浅拷贝\n",
    "\n",
    "\n",
    "ndarray.view() 方会创建一个新的数组对象，该方法创建的新数组的维数变化不会改变原始数据的维数。\n",
    "\n",
    "简单来说，共享数据存储区域只是意味着两个对象引用了同一块内存，但是它们的形状和步长不同，因此它们对共享内存的访问方式也不同。通过修改view视图的属性（如形状），并不会影响原始数组的属性。除非它们共享的内存区域中的数据被修改了。"
   ]
  },
  {
   "cell_type": "code",
   "execution_count": 7,
   "id": "f51f925a",
   "metadata": {},
   "outputs": [
    {
     "name": "stdout",
     "output_type": "stream",
     "text": [
      "数组 a：\n",
      "[[0 1]\n",
      " [2 3]\n",
      " [4 5]]\n",
      "创建 a 的视图：\n",
      "[[0 1]\n",
      " [2 3]\n",
      " [4 5]]\n",
      "两个数组的 id() 不同：\n",
      "a 的 id()：\n",
      "2426766314160\n",
      "b 的 id()：\n",
      "2426766314352\n",
      "b 的形状：\n",
      "[[0 1 2]\n",
      " [3 4 5]]\n",
      "a 的形状：\n",
      "[[0 1]\n",
      " [2 3]\n",
      " [4 5]]\n",
      "[[89  1  2]\n",
      " [ 3  4  5]]\n",
      "[[89  1]\n",
      " [ 2  3]\n",
      " [ 4  5]]\n"
     ]
    }
   ],
   "source": [
    "# 最开始 a 是个 3X2 的数组\n",
    "a = np.arange(6).reshape(3,2)  \n",
    "print ('数组 a：')\n",
    "print (a)\n",
    "print ('创建 a 的视图：')\n",
    "b = a.view()  \n",
    "print (b)\n",
    "print ('两个数组的 id() 不同：')\n",
    "print ('a 的 id()：')\n",
    "print (id(a))\n",
    "print ('b 的 id()：' )\n",
    "print (id(b))\n",
    "# 修改 b 的形状，并不会修改 a\n",
    "b.shape =  2,3\n",
    "print ('b 的形状：')\n",
    "print (b)\n",
    "print ('a 的形状：')\n",
    "print (a)\n",
    "\n",
    "b[0,0]=89\n",
    "print(b)\n",
    "print(a)"
   ]
  },
  {
   "cell_type": "markdown",
   "id": "71750388",
   "metadata": {},
   "source": [
    "使用切片创建视图修改数据会影响到原始数组："
   ]
  },
  {
   "cell_type": "code",
   "execution_count": 5,
   "id": "9c1f7c14",
   "metadata": {},
   "outputs": [
    {
     "name": "stdout",
     "output_type": "stream",
     "text": [
      "我们的数组：\n",
      "[ 0  1  2  3  4  5  6  7  8  9 10 11]\n",
      "创建切片：\n",
      "[  0   1   2   3 123 234   6   7   8   9  10  11]\n",
      "2426722746800 2426744409616 2426744409904\n"
     ]
    }
   ],
   "source": [
    "arr = np.arange(12)\n",
    "print ('我们的数组：')\n",
    "print (arr)\n",
    "print ('创建切片：')\n",
    "a=arr[3:]\n",
    "b=arr[3:]\n",
    "a[1]=123\n",
    "b[2]=234\n",
    "print(arr)\n",
    "print(id(a),id(b),id(arr[3:]))"
   ]
  },
  {
   "cell_type": "markdown",
   "id": "35a9e153",
   "metadata": {},
   "source": [
    "变量 a,b 都是 arr 的一部分视图，对视图的修改会直接反映到原数据中。但是我们观察 a,b 的 id，他们是不同的，也就是说，视图虽然指向原数据，但是他们和赋值引用还是有区别的。"
   ]
  },
  {
   "cell_type": "markdown",
   "id": "2eb5a6f1",
   "metadata": {},
   "source": [
    "副本或深拷贝\n",
    "ndarray.copy() 函数创建一个副本。 对副本数据进行修改，不会影响到原始数据，它们物理内存不在同一位置。"
   ]
  },
  {
   "cell_type": "code",
   "execution_count": 8,
   "id": "32339527",
   "metadata": {},
   "outputs": [
    {
     "name": "stdout",
     "output_type": "stream",
     "text": [
      "数组 a：\n",
      "[[10 10]\n",
      " [ 2  3]\n",
      " [ 4  5]]\n",
      "创建 a 的深层副本：\n",
      "数组 b：\n",
      "[[10 10]\n",
      " [ 2  3]\n",
      " [ 4  5]]\n",
      "我们能够写入 b 来写入 a 吗？\n",
      "False\n",
      "修改 b 的内容：\n",
      "修改后的数组 b：\n",
      "[[100  10]\n",
      " [  2   3]\n",
      " [  4   5]]\n",
      "a 保持不变：\n",
      "[[10 10]\n",
      " [ 2  3]\n",
      " [ 4  5]]\n"
     ]
    }
   ],
   "source": [
    "a = np.array([[10,10],  [2,3],  [4,5]])  \n",
    "print ('数组 a：')\n",
    "print (a)\n",
    "print ('创建 a 的深层副本：')\n",
    "b = a.copy()  \n",
    "print ('数组 b：')\n",
    "print (b)\n",
    "# b 与 a 不共享任何内容  \n",
    "print ('我们能够写入 b 来写入 a 吗？')\n",
    "print (b is a)\n",
    "print ('修改 b 的内容：')\n",
    "b[0,0]  =  100  \n",
    "print ('修改后的数组 b：')\n",
    "print (b)\n",
    "print ('a 保持不变：')\n",
    "print (a)"
   ]
  },
  {
   "cell_type": "code",
   "execution_count": 9,
   "id": "93bfaa74",
   "metadata": {},
   "outputs": [
    {
     "name": "stdout",
     "output_type": "stream",
     "text": [
      "[9 1 2 3]\n",
      "[9 1 2 3]\n"
     ]
    }
   ],
   "source": [
    "a = np.arange(4)\n",
    "b = a\n",
    "# 改变a中第一个元素的值\n",
    "a[0] = 9\n",
    "print(a)\n",
    "print(b)"
   ]
  },
  {
   "cell_type": "markdown",
   "id": "2c0c5052",
   "metadata": {},
   "source": [
    "可以看到，改变 a 后，b 的值也跟着变了，这是为什么呢？\n",
    "\n",
    "实际上，变量 a 中并没有存储任何的值，它只是指向了一个内存地址，而这个地址里存储着 array 具体的内容，当把a赋值给b的时候，实际上是把 a 指向内存中某对象的链接赋给了 b，也就是说，现在 a 和 b 都指向了同一个对象。\n",
    "\n",
    "因此，在改变了内存中 array 的值后，而 a 与 b 都引用了该 array 对象，所以都一起发生了变化。\n",
    "\n",
    "这种只是将内存引用赋值给另一个变量的操作叫做浅拷贝。\n",
    "\n",
    "那什么是深拷贝呢，深拷贝则会重新分配内存空间，生成新的变量名和内存区域，所以不会受到原始数据的影响。"
   ]
  },
  {
   "cell_type": "code",
   "execution_count": 10,
   "id": "93cdc6d5",
   "metadata": {},
   "outputs": [
    {
     "name": "stdout",
     "output_type": "stream",
     "text": [
      "[ 1  3  5  7  9 11]\n",
      "False\n",
      "a的id=2426766313584\n",
      "b的id=2426766314736\n",
      "True\n",
      "a[0]的id=2426767502704\n",
      "b[0]的id=2426767501680\n",
      "reshape数组:[[ 1  3  5]\n",
      " [ 7  9 11]]\n",
      "原数组:[ 1  3  5  7  9 11]\n",
      "替换元素:[[-1  3  5]\n",
      " [ 7  9 11]]\n",
      "原数组:[-1  3  5  7  9 11]\n"
     ]
    }
   ],
   "source": [
    "# 浅拷贝只是拷贝数据的地址\n",
    "# 对于数组的数据结构：array 对应一块儿内存地址，数组里每个对象对应一块儿数据结构\n",
    "# view方法拷贝了所有元素的内存结构，但array的内存地址不同。\n",
    "# 以reshape不会影响原数组，但是赋值会影响。\n",
    "\n",
    "import numpy as np  \n",
    "a = np.arange(1, 12, 2)    \n",
    "print(a)    \n",
    "b = a.view()    \n",
    "print(\"id(a) == id(b) ? %d\" % id(a) == id(b))    \n",
    "print(\"a的id=%d\" % id(a))    \n",
    "print(\"b的id=%d\" % id(b))    \n",
    "print(id(a[0]) == id(b[0]))    \n",
    "print(\"a[0]的id=%d\" % id(a[0]))    \n",
    "print(\"b[0]的id=%d\" % id(b[0]))    \n",
    "print(\"reshape数组:\", end=\"\")    \n",
    "b.shape = 2, 3    \n",
    "print(b)    \n",
    "print(\"原数组:\", end=\"\")    \n",
    "print(a)    \n",
    "print(\"替换元素:\", end=\"\")    \n",
    "b[0][0] = -1    \n",
    "print(b)    \n",
    "print(\"原数组:\", end=\"\")    \n",
    "print(a)"
   ]
  },
  {
   "cell_type": "code",
   "execution_count": null,
   "id": "68d8d130",
   "metadata": {},
   "outputs": [],
   "source": []
  }
 ],
 "metadata": {
  "kernelspec": {
   "display_name": "Python 3 (ipykernel)",
   "language": "python",
   "name": "python3"
  },
  "language_info": {
   "codemirror_mode": {
    "name": "ipython",
    "version": 3
   },
   "file_extension": ".py",
   "mimetype": "text/x-python",
   "name": "python",
   "nbconvert_exporter": "python",
   "pygments_lexer": "ipython3",
   "version": "3.9.13"
  }
 },
 "nbformat": 4,
 "nbformat_minor": 5
}
