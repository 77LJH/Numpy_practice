{
 "cells": [
  {
   "cell_type": "markdown",
   "id": "fbaea534",
   "metadata": {},
   "source": [
    "# NumPy 高级索引"
   ]
  },
  {
   "cell_type": "markdown",
   "id": "7b1c4c05",
   "metadata": {},
   "source": [
    "NumPy 比一般的 Python 序列提供更多的索引方式。\n",
    "\n",
    "除了之前看到的用整数和切片的索引外，数组可以由整数数组索引、布尔索引及花式索引。\n",
    "\n",
    "NumPy 中的高级索引指的是使用整数数组、布尔数组或者其他序列来访问数组的元素。相比于基本索引，高级索引可以访问到数组中的任意元素，并且可以用来对数组进行复杂的操作和修改。\n",
    "\n",
    "整数数组索引\n",
    "\n",
    "整数数组索引是指使用一个数组来访问另一个数组的元素。这个数组中的每个元素都是目标数组中某个维度上的索引值。\n",
    "以下实例获取数组中 (0,0)，(1,1) 和 (2,0) 位置处的元素。"
   ]
  },
  {
   "cell_type": "code",
   "execution_count": 2,
   "id": "7b937d56",
   "metadata": {},
   "outputs": [
    {
     "name": "stdout",
     "output_type": "stream",
     "text": [
      "[1 4 5]\n"
     ]
    }
   ],
   "source": [
    "import numpy as np\n",
    "\n",
    "x=np.array([[1,2],[3,4],[5,6]])\n",
    "y=x[[0,1,2],[0,1,0]]\n",
    "print(y)"
   ]
  },
  {
   "cell_type": "markdown",
   "id": "37d6fead",
   "metadata": {},
   "source": [
    "以下实例获取了 4X3 数组中的四个角的元素。 行索引是 [0,0] 和 [3,3]，而列索引是 [0,2] 和 [0,2]。"
   ]
  },
  {
   "cell_type": "code",
   "execution_count": 18,
   "id": "35f79389",
   "metadata": {},
   "outputs": [
    {
     "name": "stdout",
     "output_type": "stream",
     "text": [
      "我们的数组时是：\n",
      "[[ 0  1  2]\n",
      " [ 3  4  5]\n",
      " [ 6  7  8]\n",
      " [ 9 10 11]]\n",
      "\n",
      "\n",
      "这个数组的四个角元素是：\n",
      "[[ 0  2]\n",
      " [ 9 11]]\n",
      "这个数组的四个角元素是：\n",
      "[ 0  2  9 11]\n"
     ]
    }
   ],
   "source": [
    "x=np.array([[0,1,2],[3,4,5],[6,7,8],[9,10,11]])\n",
    "print(\"我们的数组时是：\")\n",
    "print(x)\n",
    "print(\"\\n\")\n",
    "rows=np.array([[0,0],[3,3]]) #取行索引号\n",
    "cols=np.array([[0,2],[0,2]]) #取列索引号\n",
    "y=x[rows,cols] #生成一个二维数组：取第一行第一列、第一行第3列 和 第4行第一列、第4行第三列的数\n",
    "print(\"这个数组的四个角元素是：\")\n",
    "print(y)\n",
    "rows=np.array([0,0,3,3]) #取行索引号\n",
    "cols=np.array([0,2,0,2]) #取列索引号\n",
    "y=x[rows,cols] \n",
    "print(\"这个数组的四个角元素是：\")\n",
    "print(y)"
   ]
  },
  {
   "cell_type": "code",
   "execution_count": 4,
   "id": "a8f4d381",
   "metadata": {},
   "outputs": [
    {
     "name": "stdout",
     "output_type": "stream",
     "text": [
      "[[ 0  2]\n",
      " [ 9 11]]\n",
      "---------------------\n",
      "[[ 0  2]\n",
      " [ 9 11]]\n",
      "---------------------\n",
      "[[ 2]\n",
      " [11]]\n",
      "---------------------\n",
      "[ 0  2  9 11]\n",
      "---------------------\n",
      "[ 9 11]\n",
      "---------------------\n",
      "[[ 0 11]\n",
      " [ 0 11]]\n",
      "---------------------\n",
      "[[ 0  2]\n",
      " [ 9 11]]\n"
     ]
    }
   ],
   "source": [
    "y=x[[0,3],:][:,[0,2]] #生成一个二维数组：取第一行第一列、第一行第3列 和 第4行第一列、第4行第三列的数\n",
    "print(y)\n",
    "print(\"---------------------\")\n",
    "y = x[[[0,0],[3,3]],[[0,2],[0,2]]]   #生成一个二维数组：取第一行第一列、第一行第3列 和 第4行第一列、第4行第三列的数\n",
    "print (y)\n",
    "print(\"---------------------\")\n",
    "y = x[[[0],[3]],[[2],[2]]]           #生成一个二维数组：第一行第3列 和 第4行第三列的数\n",
    "print (y) \n",
    "print(\"---------------------\")\n",
    "y = x[[0,0,3,3],[0,2,0,2]]           #生成一个一维数组：取第一行第一列和第四行第一列的数\n",
    "print (y)\n",
    "print(\"---------------------\")\n",
    "y = x[[3,3],[0,2]]                   #生成一个一维数组：取第4行第一列和第4行第3列的数\n",
    "print (y)\n",
    "print(\"---------------------\")\n",
    "y = x[[0,3],[[0,2],[0,2]]]           #生成一个二维数组：由第一行第一列和第4行第三列的数为一组生成两组\n",
    "print (y)\n",
    "print(\"---------------------\")\n",
    "y = x[[[0,0],[3,3]],[0,2]]           #生成一个二维数组：取第一行第一列、第一行第3列 和 第4行第一列、第4行第三列的数\n",
    "print (y)"
   ]
  },
  {
   "cell_type": "markdown",
   "id": "8a09c3a7",
   "metadata": {},
   "source": [
    "返回的结果是包含每个角元素的 ndarray 对象。\n",
    "\n",
    "可以借助切片 : 或 … 与索引数组组合。如下面例子："
   ]
  },
  {
   "cell_type": "code",
   "execution_count": 5,
   "id": "f9d1ccae",
   "metadata": {},
   "outputs": [
    {
     "name": "stdout",
     "output_type": "stream",
     "text": [
      "[[5 6]\n",
      " [8 9]]\n",
      "[[5 6]\n",
      " [8 9]]\n",
      "[[2 3]\n",
      " [5 6]\n",
      " [8 9]]\n"
     ]
    }
   ],
   "source": [
    "a=np.array([[1,2,3],[4,5,6],[7,8,9]])\n",
    "b=a[1:3,1:3]\n",
    "c=a[1:3,[1,2]]\n",
    "d=a[...,1:]\n",
    "print(b)\n",
    "print(c)\n",
    "print(d)"
   ]
  },
  {
   "cell_type": "markdown",
   "id": "c18a031e",
   "metadata": {},
   "source": [
    "布尔索引\n",
    "我们可以通过一个布尔数组来索引目标数组。\n",
    "\n",
    "布尔索引通过布尔运算（如：比较运算符）来获取符合指定条件的元素的数组。\n",
    "\n",
    "以下实例获取大于 5 的元素："
   ]
  },
  {
   "cell_type": "code",
   "execution_count": 19,
   "id": "9a51c2ad",
   "metadata": {},
   "outputs": [
    {
     "name": "stdout",
     "output_type": "stream",
     "text": [
      "我们的数组是：\n",
      "[[ 0  1  2]\n",
      " [ 3  4  5]\n",
      " [ 6  7  8]\n",
      " [ 9 10 11]]\n",
      "\n",
      "\n",
      "[ 6  7  8  9 10 11]\n",
      "[[False False False]\n",
      " [False False False]\n",
      " [ True  True  True]\n",
      " [ True  True  True]]\n"
     ]
    }
   ],
   "source": [
    "x=np.array([[0,1,2],[3,4,5],[6,7,8],[9,10,11]])\n",
    "print(\"我们的数组是：\")\n",
    "print(x)\n",
    "print(\"\\n\")\n",
    "# 现在我们会打印出大于5的元素\n",
    "print(x[x>5])\n",
    "print(x>5)"
   ]
  },
  {
   "cell_type": "markdown",
   "id": "f84f8071",
   "metadata": {},
   "source": [
    "以下实例使用了 ~（取补运算符）来过滤 NaN。\n",
    "np.isnan(a) 返回一个布尔数组，其中True表示元素是NaN，False表示元素不是NaN。例如，在这个例子中，它将返回一个数组 [True False False True False False False]。\n",
    "\n",
    "然后，使用 ~ 操作符对这个布尔数组进行按位取反操作。这将把所有的 True 变成 False，把所有的 False 变成 True。因此，最终结果是 [False True True False True True True]。\n",
    "\n",
    "这个布尔数组可以用作索引来选择原始数组中的元素。在这个例子中，它选择了所有不是NaN的元素。"
   ]
  },
  {
   "cell_type": "code",
   "execution_count": 21,
   "id": "5124382c",
   "metadata": {},
   "outputs": [
    {
     "name": "stdout",
     "output_type": "stream",
     "text": [
      "[ True False False  True False False False]\n",
      "[1. 2. 3. 4. 5.]\n"
     ]
    }
   ],
   "source": [
    "a=np.array([np.nan,1,2,np.nan,3,4,5])\n",
    "print(np.isnan(a))\n",
    "print(a[~np.isnan(a)])"
   ]
  },
  {
   "cell_type": "markdown",
   "id": "8484fac6",
   "metadata": {},
   "source": [
    "以下实例演示如何从数组中过滤掉非复数元素。"
   ]
  },
  {
   "cell_type": "code",
   "execution_count": 22,
   "id": "f018ed42",
   "metadata": {},
   "outputs": [
    {
     "name": "stdout",
     "output_type": "stream",
     "text": [
      "[False  True False  True]\n",
      "[2. +6.j 3.5+5.j]\n"
     ]
    }
   ],
   "source": [
    "a=np.array([1,2+6j,5,3.5+5j])\n",
    "print(np.iscomplex(a))\n",
    "print(a[np.iscomplex(a)])"
   ]
  },
  {
   "cell_type": "markdown",
   "id": "c949abe3",
   "metadata": {},
   "source": [
    "花式索引\n",
    "花式索引指的是利用整数数组进行索引。\n",
    "\n",
    "花式索引根据索引数组的值作为目标数组的某个轴的下标来取值。\n",
    "\n",
    "对于使用一维整型数组作为索引，如果目标是一维数组，那么索引的结果就是对应位置的元素，如果目标是二维数组，那么就是对应下标的行。\n",
    "\n",
    "花式索引跟切片不一样，它总是将数据复制到新数组中。\n",
    "\n",
    "一维数组\n",
    "一维数组只有一个轴 axis = 0，所以一维数组就在 axis = 0 这个轴上取值："
   ]
  },
  {
   "cell_type": "code",
   "execution_count": 26,
   "id": "62e76455",
   "metadata": {},
   "outputs": [
    {
     "name": "stdout",
     "output_type": "stream",
     "text": [
      "9\n",
      "-------读取下标对应的元素-------\n",
      "[0 6]\n",
      "0\n",
      "6\n"
     ]
    }
   ],
   "source": [
    "x=np.arange(9)\n",
    "print(9)\n",
    "# 一维数组读取指定下标对应的元素\n",
    "print(\"-------读取下标对应的元素-------\")\n",
    "x2=x[[0,6]] # 使用花式索引\n",
    "print(x2)\n",
    "print(x2[0])\n",
    "print(x2[1])"
   ]
  },
  {
   "cell_type": "markdown",
   "id": "d9aa6c1f",
   "metadata": {},
   "source": [
    "二维数组\n",
    "1、传入顺序索引数组"
   ]
  },
  {
   "cell_type": "code",
   "execution_count": 10,
   "id": "bf1c7ae3",
   "metadata": {},
   "outputs": [
    {
     "name": "stdout",
     "output_type": "stream",
     "text": [
      "[[ 0  1  2  3]\n",
      " [ 4  5  6  7]\n",
      " [ 8  9 10 11]\n",
      " [12 13 14 15]\n",
      " [16 17 18 19]\n",
      " [20 21 22 23]\n",
      " [24 25 26 27]\n",
      " [28 29 30 31]]\n",
      "-------读取下标对应的行-------\n",
      "[[16 17 18 19]\n",
      " [ 8  9 10 11]\n",
      " [ 4  5  6  7]\n",
      " [28 29 30 31]]\n"
     ]
    }
   ],
   "source": [
    "x=np.arange(32).reshape((8,4))\n",
    "print(x)\n",
    "# 二维数组读取指定下标对应的行\n",
    "print(\"-------读取下标对应的行-------\")\n",
    "print(x[[4,2,1,7]])"
   ]
  },
  {
   "cell_type": "markdown",
   "id": "6ff2d27d",
   "metadata": {},
   "source": [
    "2、传入倒序索引数组"
   ]
  },
  {
   "cell_type": "code",
   "execution_count": 11,
   "id": "55ca4e5f",
   "metadata": {},
   "outputs": [
    {
     "name": "stdout",
     "output_type": "stream",
     "text": [
      "[[16 17 18 19]\n",
      " [24 25 26 27]\n",
      " [28 29 30 31]\n",
      " [ 4  5  6  7]]\n"
     ]
    }
   ],
   "source": [
    "x=np.arange(32).reshape((8,4))\n",
    "print(x[[-4,-2,-1,-7]])"
   ]
  },
  {
   "cell_type": "markdown",
   "id": "d9d355e1",
   "metadata": {},
   "source": [
    "3、传入多个索引数组（要使用 np.ix_）\n",
    "\n",
    "np.ix_ 函数就是输入两个数组，产生笛卡尔积的映射关系。\n",
    "\n",
    "笛卡尔乘积是指在数学中，两个集合 X 和 Y 的笛卡尔积（Cartesian product），又称直积，表示为 X×Y，第一个对象是X的成员而第二个对象是 Y 的所有可能有序对的其中一个成员。\n",
    "\n",
    "例如 A={a,b}, B={0,1,2}，则：\n",
    "A×B={(a, 0), (a, 1), (a, 2), (b, 0), (b, 1), (b, 2)}\n",
    "B×A={(0, a), (0, b), (1, a), (1, b), (2, a), (2, b)}"
   ]
  },
  {
   "cell_type": "code",
   "execution_count": 12,
   "id": "f55089c7",
   "metadata": {
    "scrolled": true
   },
   "outputs": [
    {
     "name": "stdout",
     "output_type": "stream",
     "text": [
      "[[ 4  7  5  6]\n",
      " [20 23 21 22]\n",
      " [28 31 29 30]\n",
      " [ 8 11  9 10]]\n"
     ]
    }
   ],
   "source": [
    "x=np.arange(32).reshape((8,4))\n",
    "print(x[np.ix_([1,5,7,2],[0,3,1,2])])"
   ]
  },
  {
   "cell_type": "markdown",
   "id": "7c369b88",
   "metadata": {},
   "source": [
    "关于 np.ix_ 的具体使用：\n",
    "\n",
    "正文中没有详细说 np.ix_ 是怎么回事，我看了一下 help(numpy.ix_)，说的比较详细。比如正文中举的例子中，x[np.ix_([1,5,7,2],[0,3,1,2])]这句话会输出一个4*4的矩阵，其中的元素分别是：\n",
    "x[1,0] x[1,3] x[1,1] x[1,2]\n",
    "x[5,0] x[5,3] x[5,1] x[5,2]\n",
    "x[7,0] x[7,3] x[7,1] x[7,2]\n",
    "x[2,0] x[2,3] x[2,1] x[2,2]"
   ]
  },
  {
   "cell_type": "markdown",
   "id": "dd05620b",
   "metadata": {},
   "source": [
    "相当于："
   ]
  },
  {
   "cell_type": "code",
   "execution_count": 13,
   "id": "48e5da5a",
   "metadata": {},
   "outputs": [],
   "source": [
    "y=np.array([[x[1,0], x[1,3], x[1,1], x[1,2]],\\\n",
    "            [x[5,0], x[5,3], x[5,1],x[5,2]],\\\n",
    "            [x[7,0] ,x[7,3], x[7,1], x[7,2]],\\\n",
    "            [x[2,0], x[2,3], x[2,1], x[2,2]]])"
   ]
  },
  {
   "cell_type": "markdown",
   "id": "32930e54",
   "metadata": {},
   "source": [
    "关于多条件的布尔索引\n",
    "\n",
    "使用 & 连接两个条件，输出大于 5 且小于 10 的元素 print(x[x>5 & x<10])：\n",
    "在 numpy 中会报错：The truth value of an array with more than one element is ambiguous\n",
    "三个实用的解决方法：\n",
    "\n",
    "1、条件加小括号\n",
    "2、使用 np.logical_and 方法\n",
    "3、使用 np.all 方法"
   ]
  },
  {
   "cell_type": "code",
   "execution_count": 14,
   "id": "9f1403db",
   "metadata": {},
   "outputs": [
    {
     "name": "stdout",
     "output_type": "stream",
     "text": [
      "原数组：\n",
      " [[ 0  1  2]\n",
      " [ 3  4  5]\n",
      " [ 6  7  8]\n",
      " [ 9 10 11]]\n",
      "大于5且小于10的元素：\n",
      "条件加小括号：\n",
      "[6 7 8 9]\n",
      "使用np.logical_and方法：\n",
      "[6 7 8 9]\n",
      "使用np.all方法：\n",
      "[6 7 8 9]\n"
     ]
    }
   ],
   "source": [
    "x=np.array([[0, 1, 2], [3, 4, 5], [6, 7, 8], [9, 10, 11]])\n",
    "print('原数组：\\n', x)\n",
    "print('大于5且小于10的元素：')\n",
    "print('条件加小括号：')\n",
    "print(x[(x>5) & (x<10)])\n",
    "print('使用np.logical_and方法：')\n",
    "print(x[np.logical_and(x>5,x<10)])\n",
    "print('使用np.all方法：')\n",
    "print(x[np.all([x>5,x<10],axis=0)])"
   ]
  },
  {
   "cell_type": "markdown",
   "id": "dbef7b3e",
   "metadata": {},
   "source": [
    "另外，布尔索引不一定针对数组的所有元素，可以针对某一列的数据，进而提取需要的数组。"
   ]
  },
  {
   "cell_type": "code",
   "execution_count": 15,
   "id": "1c0d48a0",
   "metadata": {},
   "outputs": [
    {
     "name": "stdout",
     "output_type": "stream",
     "text": [
      "[[3 2 0]\n",
      " [4 2 0]]\n"
     ]
    }
   ],
   "source": [
    "a=np.array([\n",
    "    [1,1,0],\n",
    "    [2,1,0],\n",
    "    [3,2,0],\n",
    "    [4,2,0],\n",
    "    [5,3,0]])\n",
    "b=a[(a[...,0]>2) & (a[...,1]<3),...]\n",
    "print(b)"
   ]
  },
  {
   "cell_type": "markdown",
   "id": "ce12b1ec",
   "metadata": {},
   "source": [
    "这种索引的行列对应的关系像数组相乘的对应关系:"
   ]
  },
  {
   "cell_type": "code",
   "execution_count": 16,
   "id": "8e2d9469",
   "metadata": {},
   "outputs": [
    {
     "name": "stdout",
     "output_type": "stream",
     "text": [
      "我们的数组是：\n",
      " [[ 0  1  2]\n",
      " [ 3  4  5]\n",
      " [ 6  7  8]\n",
      " [ 9 10 11]]\n"
     ]
    }
   ],
   "source": [
    "x=np.array([[0,1,2],[3,4,5],[6,7,8],[9,10,11]])\n",
    "print(\"我们的数组是：\\n\",x)"
   ]
  },
  {
   "cell_type": "code",
   "execution_count": 17,
   "id": "d55b6779",
   "metadata": {},
   "outputs": [],
   "source": [
    "rows=np.array([[0,0],[3,3]])\n",
    "cols=np.array"
   ]
  }
 ],
 "metadata": {
  "kernelspec": {
   "display_name": "Python 3 (ipykernel)",
   "language": "python",
   "name": "python3"
  },
  "language_info": {
   "codemirror_mode": {
    "name": "ipython",
    "version": 3
   },
   "file_extension": ".py",
   "mimetype": "text/x-python",
   "name": "python",
   "nbconvert_exporter": "python",
   "pygments_lexer": "ipython3",
   "version": "3.9.13"
  }
 },
 "nbformat": 4,
 "nbformat_minor": 5
}
